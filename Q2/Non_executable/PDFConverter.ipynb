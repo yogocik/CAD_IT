{
  "nbformat": 4,
  "nbformat_minor": 0,
  "metadata": {
    "colab": {
      "name": "PDFConverter.ipynb",
      "provenance": [],
      "collapsed_sections": []
    },
    "kernelspec": {
      "name": "python3",
      "display_name": "Python 3"
    },
    "language_info": {
      "name": "python"
    }
  },
  "cells": [
    {
      "cell_type": "code",
      "metadata": {
        "colab": {
          "base_uri": "https://localhost:8080/"
        },
        "id": "k5YZcAvm7cyK",
        "outputId": "206b1b11-79b5-4f21-e08a-15e0307b51d7"
      },
      "source": [
        "!pip install \"camelot-py[cv]\"\n",
        "!apt install python3-tk ghostscript"
      ],
      "execution_count": 1,
      "outputs": [
        {
          "output_type": "stream",
          "text": [
            "Collecting camelot-py[cv]\n",
            "\u001b[?25l  Downloading https://files.pythonhosted.org/packages/ed/78/123007d6aff9811bd087ff5dd68e06a9df62b2fdbf7685d74c9d6f247921/camelot_py-0.8.2-py3-none-any.whl (42kB)\n",
            "\r\u001b[K     |███████▋                        | 10kB 16.2MB/s eta 0:00:01\r\u001b[K     |███████████████▎                | 20kB 10.3MB/s eta 0:00:01\r\u001b[K     |███████████████████████         | 30kB 6.3MB/s eta 0:00:01\r\u001b[K     |██████████████████████████████▋ | 40kB 5.7MB/s eta 0:00:01\r\u001b[K     |████████████████████████████████| 51kB 2.9MB/s \n",
            "\u001b[?25hRequirement already satisfied: pandas>=0.23.4 in /usr/local/lib/python3.7/dist-packages (from camelot-py[cv]) (1.1.5)\n",
            "Collecting pdfminer.six>=20200726\n",
            "\u001b[?25l  Downloading https://files.pythonhosted.org/packages/93/f3/4fec7dabe8802ebec46141345bf714cd1fc7d93cb74ddde917e4b6d97d88/pdfminer.six-20201018-py3-none-any.whl (5.6MB)\n",
            "\u001b[K     |████████████████████████████████| 5.6MB 5.1MB/s \n",
            "\u001b[?25hRequirement already satisfied: chardet>=3.0.4 in /usr/local/lib/python3.7/dist-packages (from camelot-py[cv]) (3.0.4)\n",
            "Requirement already satisfied: click>=6.7 in /usr/local/lib/python3.7/dist-packages (from camelot-py[cv]) (7.1.2)\n",
            "Requirement already satisfied: numpy>=1.13.3 in /usr/local/lib/python3.7/dist-packages (from camelot-py[cv]) (1.19.5)\n",
            "Collecting PyPDF2>=1.26.0\n",
            "\u001b[?25l  Downloading https://files.pythonhosted.org/packages/b4/01/68fcc0d43daf4c6bdbc6b33cc3f77bda531c86b174cac56ef0ffdb96faab/PyPDF2-1.26.0.tar.gz (77kB)\n",
            "\u001b[K     |████████████████████████████████| 81kB 8.2MB/s \n",
            "\u001b[?25hRequirement already satisfied: openpyxl>=2.5.8 in /usr/local/lib/python3.7/dist-packages (from camelot-py[cv]) (2.5.9)\n",
            "Requirement already satisfied: opencv-python>=3.4.2.17; extra == \"cv\" in /usr/local/lib/python3.7/dist-packages (from camelot-py[cv]) (4.1.2.30)\n",
            "Requirement already satisfied: pytz>=2017.2 in /usr/local/lib/python3.7/dist-packages (from pandas>=0.23.4->camelot-py[cv]) (2018.9)\n",
            "Requirement already satisfied: python-dateutil>=2.7.3 in /usr/local/lib/python3.7/dist-packages (from pandas>=0.23.4->camelot-py[cv]) (2.8.1)\n",
            "Requirement already satisfied: sortedcontainers in /usr/local/lib/python3.7/dist-packages (from pdfminer.six>=20200726->camelot-py[cv]) (2.3.0)\n",
            "Collecting cryptography\n",
            "\u001b[?25l  Downloading https://files.pythonhosted.org/packages/b2/26/7af637e6a7e87258b963f1731c5982fb31cd507f0d90d91836e446955d02/cryptography-3.4.7-cp36-abi3-manylinux2014_x86_64.whl (3.2MB)\n",
            "\u001b[K     |████████████████████████████████| 3.2MB 43.9MB/s \n",
            "\u001b[?25hRequirement already satisfied: jdcal in /usr/local/lib/python3.7/dist-packages (from openpyxl>=2.5.8->camelot-py[cv]) (1.4.1)\n",
            "Requirement already satisfied: et-xmlfile in /usr/local/lib/python3.7/dist-packages (from openpyxl>=2.5.8->camelot-py[cv]) (1.0.1)\n",
            "Requirement already satisfied: six>=1.5 in /usr/local/lib/python3.7/dist-packages (from python-dateutil>=2.7.3->pandas>=0.23.4->camelot-py[cv]) (1.15.0)\n",
            "Requirement already satisfied: cffi>=1.12 in /usr/local/lib/python3.7/dist-packages (from cryptography->pdfminer.six>=20200726->camelot-py[cv]) (1.14.5)\n",
            "Requirement already satisfied: pycparser in /usr/local/lib/python3.7/dist-packages (from cffi>=1.12->cryptography->pdfminer.six>=20200726->camelot-py[cv]) (2.20)\n",
            "Building wheels for collected packages: PyPDF2\n",
            "  Building wheel for PyPDF2 (setup.py) ... \u001b[?25l\u001b[?25hdone\n",
            "  Created wheel for PyPDF2: filename=PyPDF2-1.26.0-cp37-none-any.whl size=61085 sha256=ddb4653efcacf04907e5474b5cb91dd7c601b46a9723ec2d4172c4db776f7255\n",
            "  Stored in directory: /root/.cache/pip/wheels/53/84/19/35bc977c8bf5f0c23a8a011aa958acd4da4bbd7a229315c1b7\n",
            "Successfully built PyPDF2\n",
            "Installing collected packages: cryptography, pdfminer.six, PyPDF2, camelot-py\n",
            "Successfully installed PyPDF2-1.26.0 camelot-py-0.8.2 cryptography-3.4.7 pdfminer.six-20201018\n",
            "Reading package lists... Done\n",
            "Building dependency tree       \n",
            "Reading state information... Done\n",
            "python3-tk is already the newest version (3.6.9-1~18.04).\n",
            "The following additional packages will be installed:\n",
            "  fonts-droid-fallback fonts-noto-mono gsfonts libcupsfilters1 libcupsimage2\n",
            "  libgs9 libgs9-common libijs-0.35 libjbig2dec0 poppler-data\n",
            "Suggested packages:\n",
            "  fonts-noto ghostscript-x poppler-utils fonts-japanese-mincho\n",
            "  | fonts-ipafont-mincho fonts-japanese-gothic | fonts-ipafont-gothic\n",
            "  fonts-arphic-ukai fonts-arphic-uming fonts-nanum\n",
            "The following NEW packages will be installed:\n",
            "  fonts-droid-fallback fonts-noto-mono ghostscript gsfonts libcupsfilters1\n",
            "  libcupsimage2 libgs9 libgs9-common libijs-0.35 libjbig2dec0 poppler-data\n",
            "0 upgraded, 11 newly installed, 0 to remove and 31 not upgraded.\n",
            "Need to get 14.1 MB of archives.\n",
            "After this operation, 49.9 MB of additional disk space will be used.\n",
            "Get:1 http://archive.ubuntu.com/ubuntu bionic/main amd64 fonts-droid-fallback all 1:6.0.1r16-1.1 [1,805 kB]\n",
            "Get:2 http://archive.ubuntu.com/ubuntu bionic/main amd64 poppler-data all 0.4.8-2 [1,479 kB]\n",
            "Get:3 http://archive.ubuntu.com/ubuntu bionic/main amd64 fonts-noto-mono all 20171026-2 [75.5 kB]\n",
            "Get:4 http://archive.ubuntu.com/ubuntu bionic-updates/main amd64 libcupsimage2 amd64 2.2.7-1ubuntu2.8 [18.6 kB]\n",
            "Get:5 http://archive.ubuntu.com/ubuntu bionic/main amd64 libijs-0.35 amd64 0.35-13 [15.5 kB]\n",
            "Get:6 http://archive.ubuntu.com/ubuntu bionic/main amd64 libjbig2dec0 amd64 0.13-6 [55.9 kB]\n",
            "Get:7 http://archive.ubuntu.com/ubuntu bionic-updates/main amd64 libgs9-common all 9.26~dfsg+0-0ubuntu0.18.04.14 [5,092 kB]\n",
            "Get:8 http://archive.ubuntu.com/ubuntu bionic-updates/main amd64 libgs9 amd64 9.26~dfsg+0-0ubuntu0.18.04.14 [2,265 kB]\n",
            "Get:9 http://archive.ubuntu.com/ubuntu bionic-updates/main amd64 ghostscript amd64 9.26~dfsg+0-0ubuntu0.18.04.14 [51.3 kB]\n",
            "Get:10 http://archive.ubuntu.com/ubuntu bionic/main amd64 gsfonts all 1:8.11+urwcyr1.0.7~pre44-4.4 [3,120 kB]\n",
            "Get:11 http://archive.ubuntu.com/ubuntu bionic-updates/main amd64 libcupsfilters1 amd64 1.20.2-0ubuntu3.1 [108 kB]\n",
            "Fetched 14.1 MB in 1s (10.8 MB/s)\n",
            "Selecting previously unselected package fonts-droid-fallback.\n",
            "(Reading database ... 160983 files and directories currently installed.)\n",
            "Preparing to unpack .../00-fonts-droid-fallback_1%3a6.0.1r16-1.1_all.deb ...\n",
            "Unpacking fonts-droid-fallback (1:6.0.1r16-1.1) ...\n",
            "Selecting previously unselected package poppler-data.\n",
            "Preparing to unpack .../01-poppler-data_0.4.8-2_all.deb ...\n",
            "Unpacking poppler-data (0.4.8-2) ...\n",
            "Selecting previously unselected package fonts-noto-mono.\n",
            "Preparing to unpack .../02-fonts-noto-mono_20171026-2_all.deb ...\n",
            "Unpacking fonts-noto-mono (20171026-2) ...\n",
            "Selecting previously unselected package libcupsimage2:amd64.\n",
            "Preparing to unpack .../03-libcupsimage2_2.2.7-1ubuntu2.8_amd64.deb ...\n",
            "Unpacking libcupsimage2:amd64 (2.2.7-1ubuntu2.8) ...\n",
            "Selecting previously unselected package libijs-0.35:amd64.\n",
            "Preparing to unpack .../04-libijs-0.35_0.35-13_amd64.deb ...\n",
            "Unpacking libijs-0.35:amd64 (0.35-13) ...\n",
            "Selecting previously unselected package libjbig2dec0:amd64.\n",
            "Preparing to unpack .../05-libjbig2dec0_0.13-6_amd64.deb ...\n",
            "Unpacking libjbig2dec0:amd64 (0.13-6) ...\n",
            "Selecting previously unselected package libgs9-common.\n",
            "Preparing to unpack .../06-libgs9-common_9.26~dfsg+0-0ubuntu0.18.04.14_all.deb ...\n",
            "Unpacking libgs9-common (9.26~dfsg+0-0ubuntu0.18.04.14) ...\n",
            "Selecting previously unselected package libgs9:amd64.\n",
            "Preparing to unpack .../07-libgs9_9.26~dfsg+0-0ubuntu0.18.04.14_amd64.deb ...\n",
            "Unpacking libgs9:amd64 (9.26~dfsg+0-0ubuntu0.18.04.14) ...\n",
            "Selecting previously unselected package ghostscript.\n",
            "Preparing to unpack .../08-ghostscript_9.26~dfsg+0-0ubuntu0.18.04.14_amd64.deb ...\n",
            "Unpacking ghostscript (9.26~dfsg+0-0ubuntu0.18.04.14) ...\n",
            "Selecting previously unselected package gsfonts.\n",
            "Preparing to unpack .../09-gsfonts_1%3a8.11+urwcyr1.0.7~pre44-4.4_all.deb ...\n",
            "Unpacking gsfonts (1:8.11+urwcyr1.0.7~pre44-4.4) ...\n",
            "Selecting previously unselected package libcupsfilters1:amd64.\n",
            "Preparing to unpack .../10-libcupsfilters1_1.20.2-0ubuntu3.1_amd64.deb ...\n",
            "Unpacking libcupsfilters1:amd64 (1.20.2-0ubuntu3.1) ...\n",
            "Setting up libgs9-common (9.26~dfsg+0-0ubuntu0.18.04.14) ...\n",
            "Setting up fonts-droid-fallback (1:6.0.1r16-1.1) ...\n",
            "Setting up gsfonts (1:8.11+urwcyr1.0.7~pre44-4.4) ...\n",
            "Setting up poppler-data (0.4.8-2) ...\n",
            "Setting up fonts-noto-mono (20171026-2) ...\n",
            "Setting up libcupsfilters1:amd64 (1.20.2-0ubuntu3.1) ...\n",
            "Setting up libcupsimage2:amd64 (2.2.7-1ubuntu2.8) ...\n",
            "Setting up libjbig2dec0:amd64 (0.13-6) ...\n",
            "Setting up libijs-0.35:amd64 (0.35-13) ...\n",
            "Setting up libgs9:amd64 (9.26~dfsg+0-0ubuntu0.18.04.14) ...\n",
            "Setting up ghostscript (9.26~dfsg+0-0ubuntu0.18.04.14) ...\n",
            "Processing triggers for man-db (2.8.3-2ubuntu0.1) ...\n",
            "Processing triggers for fontconfig (2.12.6-0ubuntu2) ...\n",
            "Processing triggers for libc-bin (2.27-3ubuntu1.2) ...\n",
            "/sbin/ldconfig.real: /usr/local/lib/python3.7/dist-packages/ideep4py/lib/libmkldnn.so.0 is not a symbolic link\n",
            "\n"
          ],
          "name": "stdout"
        }
      ]
    },
    {
      "cell_type": "code",
      "metadata": {
        "id": "6RaqM0BN7rwO"
      },
      "source": [
        "import re\n",
        "import camelot\n",
        "import pandas as pd\n",
        "import os\n",
        "import sys"
      ],
      "execution_count": 74,
      "outputs": []
    },
    {
      "cell_type": "code",
      "metadata": {
        "id": "UdnBZxqv75Oi"
      },
      "source": [
        "# SAYA MENGGUNAKAN GOOGLE DRIVE UNTUK PENYIMPANAN DOKUMEN Q2 AGAR TIDAK BOLAK-BALIK SAVE KETIKA RESTART RUNTIME\n",
        "data_dir = 'drive/MyDrive/Data/Q2.pdf'\n",
        "tables = camelot.read_pdf(data_dir,pages='all')"
      ],
      "execution_count": 75,
      "outputs": []
    },
    {
      "cell_type": "code",
      "metadata": {
        "colab": {
          "base_uri": "https://localhost:8080/"
        },
        "id": "uRS3wVVV8m4g",
        "outputId": "c1e0cd24-6197-4901-9f22-b94f7c5dd203"
      },
      "source": [
        "i = 0\n",
        "data_dict = {'Description':[],'Possible_root_cause':[],'Pages':[]}\n",
        "while True:\n",
        "    try:\n",
        "        tables[i].parsing_report\n",
        "        data = tables[i].df.T\n",
        "        data.columns = data.iloc[0]\n",
        "        unused_column = data.columns.values[0]\n",
        "        data = data[1:].drop(unused_column,axis=1).reset_index(drop=True)\n",
        "        match = re.split(r\"([0-9]+)\", data[data.columns[1]].values[0].rstrip(''))\n",
        "        print(f'Page {i+1}')\n",
        "        i += 1\n",
        "        if match:\n",
        "            for word_elem in match:\n",
        "                if len(word_elem) > 5:\n",
        "                    word = max(re.split(r\"\\.\", word_elem.rstrip(' ')),key=len)\n",
        "                    data_dict['Description'].append(data[data.columns[0]].values[0])\n",
        "                    data_dict['Possible_root_cause'].append(word)\n",
        "                    data_dict['Pages'].append(i)   \n",
        "    except:\n",
        "        print(f'Pages {i} is not defined')\n",
        "        break\n",
        "    finally:\n",
        "        print('Reload Finished!')\n",
        "    "
      ],
      "execution_count": 76,
      "outputs": [
        {
          "output_type": "stream",
          "text": [
            "Page 1\n",
            "Reload Finished!\n",
            "Page 2\n",
            "Reload Finished!\n",
            "Page 3\n",
            "Reload Finished!\n",
            "Page 4\n",
            "Reload Finished!\n",
            "Page 5\n",
            "Reload Finished!\n",
            "Page 6\n",
            "Reload Finished!\n",
            "Page 7\n",
            "Reload Finished!\n",
            "Page 8\n",
            "Reload Finished!\n",
            "Page 9\n",
            "Reload Finished!\n",
            "Page 10\n",
            "Reload Finished!\n",
            "Page 11\n",
            "Reload Finished!\n",
            "Page 12\n",
            "Reload Finished!\n",
            "Page 13\n",
            "Reload Finished!\n",
            "Page 14\n",
            "Reload Finished!\n",
            "Page 15\n",
            "Reload Finished!\n",
            "Page 16\n",
            "Reload Finished!\n",
            "Page 17\n",
            "Reload Finished!\n",
            "Page 18\n",
            "Reload Finished!\n",
            "Page 19\n",
            "Reload Finished!\n",
            "Page 20\n",
            "Reload Finished!\n",
            "Page 21\n",
            "Reload Finished!\n",
            "Page 22\n",
            "Reload Finished!\n",
            "Page 23\n",
            "Reload Finished!\n",
            "Page 24\n",
            "Reload Finished!\n",
            "Page 25\n",
            "Reload Finished!\n",
            "Page 26\n",
            "Reload Finished!\n",
            "Page 27\n",
            "Reload Finished!\n",
            "Pages 27 is not defined\n",
            "Reload Finished!\n"
          ],
          "name": "stdout"
        }
      ]
    },
    {
      "cell_type": "code",
      "metadata": {
        "colab": {
          "base_uri": "https://localhost:8080/"
        },
        "id": "ngKF1eGZXgby",
        "outputId": "7d3a0a88-6660-44f6-c9c7-7342598734eb"
      },
      "source": [
        "len_dict = {key:len(value) for key,value in data_dict.items()}\n",
        "len_dict"
      ],
      "execution_count": 77,
      "outputs": [
        {
          "output_type": "execute_result",
          "data": {
            "text/plain": [
              "{'Description': 127, 'Pages': 127, 'Possible_root_cause': 127}"
            ]
          },
          "metadata": {
            "tags": []
          },
          "execution_count": 77
        }
      ]
    },
    {
      "cell_type": "code",
      "metadata": {
        "colab": {
          "base_uri": "https://localhost:8080/",
          "height": 204
        },
        "id": "fLfLuNM7XvQE",
        "outputId": "7a325e1e-dc24-4c25-e924-b2d1851cc61e"
      },
      "source": [
        "data_convert = pd.DataFrame.from_dict(data_dict)\n",
        "data_convert.head()"
      ],
      "execution_count": 78,
      "outputs": [
        {
          "output_type": "execute_result",
          "data": {
            "text/html": [
              "<div>\n",
              "<style scoped>\n",
              "    .dataframe tbody tr th:only-of-type {\n",
              "        vertical-align: middle;\n",
              "    }\n",
              "\n",
              "    .dataframe tbody tr th {\n",
              "        vertical-align: top;\n",
              "    }\n",
              "\n",
              "    .dataframe thead th {\n",
              "        text-align: right;\n",
              "    }\n",
              "</style>\n",
              "<table border=\"1\" class=\"dataframe\">\n",
              "  <thead>\n",
              "    <tr style=\"text-align: right;\">\n",
              "      <th></th>\n",
              "      <th>Description</th>\n",
              "      <th>Possible_root_cause</th>\n",
              "      <th>Pages</th>\n",
              "    </tr>\n",
              "  </thead>\n",
              "  <tbody>\n",
              "    <tr>\n",
              "      <th>0</th>\n",
              "      <td>INDOOR PCB ABNORMALITY</td>\n",
              "      <td>Faulty indoor PCB</td>\n",
              "      <td>1</td>\n",
              "    </tr>\n",
              "    <tr>\n",
              "      <th>1</th>\n",
              "      <td>INDOOR PCB ABNORMALITY</td>\n",
              "      <td>Faulty connector connection at indoor</td>\n",
              "      <td>1</td>\n",
              "    </tr>\n",
              "    <tr>\n",
              "      <th>2</th>\n",
              "      <td>ANTIFREEZE PROTECTION OR HIGH PRESSURE CONTROL</td>\n",
              "      <td>\\nIndoor air short circuit</td>\n",
              "      <td>2</td>\n",
              "    </tr>\n",
              "    <tr>\n",
              "      <th>3</th>\n",
              "      <td>ANTIFREEZE PROTECTION OR HIGH PRESSURE CONTROL</td>\n",
              "      <td>\\nIndoor coil thermistor faulty</td>\n",
              "      <td>2</td>\n",
              "    </tr>\n",
              "    <tr>\n",
              "      <th>4</th>\n",
              "      <td>ANTIFREEZE PROTECTION OR HIGH PRESSURE CONTROL</td>\n",
              "      <td>\\nIndoor PCB faulty</td>\n",
              "      <td>2</td>\n",
              "    </tr>\n",
              "  </tbody>\n",
              "</table>\n",
              "</div>"
            ],
            "text/plain": [
              "                                      Description  ... Pages\n",
              "0                          INDOOR PCB ABNORMALITY  ...     1\n",
              "1                          INDOOR PCB ABNORMALITY  ...     1\n",
              "2  ANTIFREEZE PROTECTION OR HIGH PRESSURE CONTROL  ...     2\n",
              "3  ANTIFREEZE PROTECTION OR HIGH PRESSURE CONTROL  ...     2\n",
              "4  ANTIFREEZE PROTECTION OR HIGH PRESSURE CONTROL  ...     2\n",
              "\n",
              "[5 rows x 3 columns]"
            ]
          },
          "metadata": {
            "tags": []
          },
          "execution_count": 78
        }
      ]
    },
    {
      "cell_type": "code",
      "metadata": {
        "colab": {
          "base_uri": "https://localhost:8080/",
          "height": 419
        },
        "id": "zn7ba5ivnqPq",
        "outputId": "6abad756-d359-4e0b-867e-5a5dc4872b39"
      },
      "source": [
        "data_convert"
      ],
      "execution_count": 79,
      "outputs": [
        {
          "output_type": "execute_result",
          "data": {
            "text/html": [
              "<div>\n",
              "<style scoped>\n",
              "    .dataframe tbody tr th:only-of-type {\n",
              "        vertical-align: middle;\n",
              "    }\n",
              "\n",
              "    .dataframe tbody tr th {\n",
              "        vertical-align: top;\n",
              "    }\n",
              "\n",
              "    .dataframe thead th {\n",
              "        text-align: right;\n",
              "    }\n",
              "</style>\n",
              "<table border=\"1\" class=\"dataframe\">\n",
              "  <thead>\n",
              "    <tr style=\"text-align: right;\">\n",
              "      <th></th>\n",
              "      <th>Description</th>\n",
              "      <th>Possible_root_cause</th>\n",
              "      <th>Pages</th>\n",
              "    </tr>\n",
              "  </thead>\n",
              "  <tbody>\n",
              "    <tr>\n",
              "      <th>0</th>\n",
              "      <td>INDOOR PCB ABNORMALITY</td>\n",
              "      <td>Faulty indoor PCB</td>\n",
              "      <td>1</td>\n",
              "    </tr>\n",
              "    <tr>\n",
              "      <th>1</th>\n",
              "      <td>INDOOR PCB ABNORMALITY</td>\n",
              "      <td>Faulty connector connection at indoor</td>\n",
              "      <td>1</td>\n",
              "    </tr>\n",
              "    <tr>\n",
              "      <th>2</th>\n",
              "      <td>ANTIFREEZE PROTECTION OR HIGH PRESSURE CONTROL</td>\n",
              "      <td>\\nIndoor air short circuit</td>\n",
              "      <td>2</td>\n",
              "    </tr>\n",
              "    <tr>\n",
              "      <th>3</th>\n",
              "      <td>ANTIFREEZE PROTECTION OR HIGH PRESSURE CONTROL</td>\n",
              "      <td>\\nIndoor coil thermistor faulty</td>\n",
              "      <td>2</td>\n",
              "    </tr>\n",
              "    <tr>\n",
              "      <th>4</th>\n",
              "      <td>ANTIFREEZE PROTECTION OR HIGH PRESSURE CONTROL</td>\n",
              "      <td>\\nIndoor PCB faulty</td>\n",
              "      <td>2</td>\n",
              "    </tr>\n",
              "    <tr>\n",
              "      <th>...</th>\n",
              "      <td>...</td>\n",
              "      <td>...</td>\n",
              "      <td>...</td>\n",
              "    </tr>\n",
              "    <tr>\n",
              "      <th>122</th>\n",
              "      <td>COMMUNICATION ABNORMALITY</td>\n",
              "      <td>\\nIndoor unit – Outdoor unit signal transmiss...</td>\n",
              "      <td>26</td>\n",
              "    </tr>\n",
              "    <tr>\n",
              "      <th>123</th>\n",
              "      <td>INSTALLATION ABNORMALITY</td>\n",
              "      <td>Wrong models interconnected</td>\n",
              "      <td>27</td>\n",
              "    </tr>\n",
              "    <tr>\n",
              "      <th>124</th>\n",
              "      <td>INSTALLATION ABNORMALITY</td>\n",
              "      <td>Wrong indoor unit PCB mounted</td>\n",
              "      <td>27</td>\n",
              "    </tr>\n",
              "    <tr>\n",
              "      <th>125</th>\n",
              "      <td>INSTALLATION ABNORMALITY</td>\n",
              "      <td>\\nIndoor unit PCB defective</td>\n",
              "      <td>27</td>\n",
              "    </tr>\n",
              "    <tr>\n",
              "      <th>126</th>\n",
              "      <td>INSTALLATION ABNORMALITY</td>\n",
              "      <td>Wrong outdoor unit PCB mounted or defective</td>\n",
              "      <td>27</td>\n",
              "    </tr>\n",
              "  </tbody>\n",
              "</table>\n",
              "<p>127 rows × 3 columns</p>\n",
              "</div>"
            ],
            "text/plain": [
              "                                        Description  ... Pages\n",
              "0                            INDOOR PCB ABNORMALITY  ...     1\n",
              "1                            INDOOR PCB ABNORMALITY  ...     1\n",
              "2    ANTIFREEZE PROTECTION OR HIGH PRESSURE CONTROL  ...     2\n",
              "3    ANTIFREEZE PROTECTION OR HIGH PRESSURE CONTROL  ...     2\n",
              "4    ANTIFREEZE PROTECTION OR HIGH PRESSURE CONTROL  ...     2\n",
              "..                                              ...  ...   ...\n",
              "122                       COMMUNICATION ABNORMALITY  ...    26\n",
              "123                        INSTALLATION ABNORMALITY  ...    27\n",
              "124                        INSTALLATION ABNORMALITY  ...    27\n",
              "125                        INSTALLATION ABNORMALITY  ...    27\n",
              "126                        INSTALLATION ABNORMALITY  ...    27\n",
              "\n",
              "[127 rows x 3 columns]"
            ]
          },
          "metadata": {
            "tags": []
          },
          "execution_count": 79
        }
      ]
    },
    {
      "cell_type": "code",
      "metadata": {
        "id": "euNWOu5lb1_C"
      },
      "source": [
        "data_convert.to_csv('/content/my_csv.csv')"
      ],
      "execution_count": 69,
      "outputs": []
    },
    {
      "cell_type": "code",
      "metadata": {
        "id": "tK0pnwEknNks"
      },
      "source": [
        "# MY PROGRAM FOR PC / RUNNING SCRIPT\n",
        "\n",
        "import re\n",
        "import camelot\n",
        "import pandas as pd\n",
        "import os\n",
        "import sys\n",
        "\n",
        "\n",
        "def convert_object(filename:str=file_name,data_dir:str=data_directory,save_dir:str=data_directory)->object:\n",
        "    filename = input(f\"Filename with extension : \\n\")\n",
        "    data_dir = input(f\"Data directory which file reside : \\n\")\n",
        "    save_dir = input(f\"Save directory which file would be saved : \\n\") \n",
        "    if data_dir is None or data_dir == '':\n",
        "        data_dir = os.getcwd()\n",
        "        print(f'Data directory has been changed automatically to {data_dir}') \n",
        "    try:\n",
        "        tables = camelot.read_pdf(os.path.join(data_dir,filename),pages='all')\n",
        "    except:\n",
        "        sys.exit('File is not found or failed to be parsed')\n",
        "    i = 0\n",
        "    data_dict = {'Description':[],'Possible_root_cause':[],'Pages':[]}\n",
        "    while True:\n",
        "        try:\n",
        "            tables[i].parsing_report\n",
        "            data = tables[i].df.T\n",
        "            data.columns = data.iloc[0]\n",
        "            unused_column = data.columns.values[0]\n",
        "            data = data[1:].drop(unused_column,axis=1).reset_index(drop=True)\n",
        "            match = re.split(r\"([0-9]+)\", data[data.columns[1]].values[0].rstrip(''))\n",
        "            i += 1\n",
        "            if match:\n",
        "                for word_elem in match:\n",
        "                    if len(word_elem) > 5:\n",
        "                        word = max(re.split(r\"\\.\", word_elem.rstrip(' ')),key=len)\n",
        "                        data_dict['Description'].append(data[data.columns[0]].values[0])\n",
        "                        data_dict['Possible_root_cause'].append(word)\n",
        "                        data_dict['Pages'].append(i)   \n",
        "        except:\n",
        "            print(f'Pages {i} is not defined')\n",
        "            sys.exit('Force Exit!')\n",
        "        finally:\n",
        "            print('Reload Finished!')\n",
        "    data_convert = pd.DataFrame.from_dict(data_dict)\n",
        "    if save_dir == '' or save_dir is None:\n",
        "        save_dir = data_dir\n",
        "    data_convert.to_csv(os.path.join(save_dir,'my_convert.csv'))\n",
        "\n",
        "convert_object()"
      ],
      "execution_count": null,
      "outputs": []
    }
  ]
}