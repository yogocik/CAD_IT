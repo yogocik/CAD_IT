{
  "nbformat": 4,
  "nbformat_minor": 0,
  "metadata": {
    "colab": {
      "name": "Untitled34.ipynb",
      "provenance": [],
      "collapsed_sections": []
    },
    "kernelspec": {
      "name": "python3",
      "display_name": "Python 3"
    },
    "language_info": {
      "name": "python"
    }
  },
  "cells": [
    {
      "cell_type": "code",
      "metadata": {
        "colab": {
          "base_uri": "https://localhost:8080/"
        },
        "id": "jOjtO2T64GHt",
        "outputId": "feba2176-e8a7-45bc-fbf4-09586ad69df1"
      },
      "source": [
        "!pip install pandas \n",
        "!pip install numpy\n",
        "!pip install scikit-learn==0.24.1\n",
        "!pip install seaborn"
      ],
      "execution_count": 1,
      "outputs": [
        {
          "output_type": "stream",
          "text": [
            "Requirement already satisfied: pandas in /usr/local/lib/python3.7/dist-packages (1.1.5)\n",
            "Requirement already satisfied: pytz>=2017.2 in /usr/local/lib/python3.7/dist-packages (from pandas) (2018.9)\n",
            "Requirement already satisfied: numpy>=1.15.4 in /usr/local/lib/python3.7/dist-packages (from pandas) (1.19.5)\n",
            "Requirement already satisfied: python-dateutil>=2.7.3 in /usr/local/lib/python3.7/dist-packages (from pandas) (2.8.1)\n",
            "Requirement already satisfied: six>=1.5 in /usr/local/lib/python3.7/dist-packages (from python-dateutil>=2.7.3->pandas) (1.15.0)\n",
            "Requirement already satisfied: numpy in /usr/local/lib/python3.7/dist-packages (1.19.5)\n",
            "Requirement already satisfied: scikit-learn==0.24.1 in /usr/local/lib/python3.7/dist-packages (0.24.1)\n",
            "Requirement already satisfied: joblib>=0.11 in /usr/local/lib/python3.7/dist-packages (from scikit-learn==0.24.1) (1.0.1)\n",
            "Requirement already satisfied: numpy>=1.13.3 in /usr/local/lib/python3.7/dist-packages (from scikit-learn==0.24.1) (1.19.5)\n",
            "Requirement already satisfied: scipy>=0.19.1 in /usr/local/lib/python3.7/dist-packages (from scikit-learn==0.24.1) (1.4.1)\n",
            "Requirement already satisfied: threadpoolctl>=2.0.0 in /usr/local/lib/python3.7/dist-packages (from scikit-learn==0.24.1) (2.1.0)\n",
            "Requirement already satisfied: seaborn in /usr/local/lib/python3.7/dist-packages (0.11.1)\n",
            "Requirement already satisfied: matplotlib>=2.2 in /usr/local/lib/python3.7/dist-packages (from seaborn) (3.2.2)\n",
            "Requirement already satisfied: scipy>=1.0 in /usr/local/lib/python3.7/dist-packages (from seaborn) (1.4.1)\n",
            "Requirement already satisfied: numpy>=1.15 in /usr/local/lib/python3.7/dist-packages (from seaborn) (1.19.5)\n",
            "Requirement already satisfied: pandas>=0.23 in /usr/local/lib/python3.7/dist-packages (from seaborn) (1.1.5)\n",
            "Requirement already satisfied: python-dateutil>=2.1 in /usr/local/lib/python3.7/dist-packages (from matplotlib>=2.2->seaborn) (2.8.1)\n",
            "Requirement already satisfied: kiwisolver>=1.0.1 in /usr/local/lib/python3.7/dist-packages (from matplotlib>=2.2->seaborn) (1.3.1)\n",
            "Requirement already satisfied: pyparsing!=2.0.4,!=2.1.2,!=2.1.6,>=2.0.1 in /usr/local/lib/python3.7/dist-packages (from matplotlib>=2.2->seaborn) (2.4.7)\n",
            "Requirement already satisfied: cycler>=0.10 in /usr/local/lib/python3.7/dist-packages (from matplotlib>=2.2->seaborn) (0.10.0)\n",
            "Requirement already satisfied: pytz>=2017.2 in /usr/local/lib/python3.7/dist-packages (from pandas>=0.23->seaborn) (2018.9)\n",
            "Requirement already satisfied: six>=1.5 in /usr/local/lib/python3.7/dist-packages (from python-dateutil>=2.1->matplotlib>=2.2->seaborn) (1.15.0)\n"
          ],
          "name": "stdout"
        }
      ]
    },
    {
      "cell_type": "code",
      "metadata": {
        "id": "yzurU-fk5Z8m"
      },
      "source": [
        "import numpy as np\n",
        "import pandas as pd\n",
        "import matplotlib.pyplot as plt\n",
        "from matplotlib.ticker import PercentFormatter\n",
        "import seaborn as sb\n",
        "import joblib"
      ],
      "execution_count": 2,
      "outputs": []
    },
    {
      "cell_type": "code",
      "metadata": {
        "colab": {
          "base_uri": "https://localhost:8080/",
          "height": 204
        },
        "id": "L6BN3CVw_RQk",
        "outputId": "1fdcd055-ad67-4131-f3d0-45b99e45b270"
      },
      "source": [
        "data = pd.read_csv('sample_data/Q1.csv')\n",
        "data.head()"
      ],
      "execution_count": 3,
      "outputs": [
        {
          "output_type": "execute_result",
          "data": {
            "text/html": [
              "<div>\n",
              "<style scoped>\n",
              "    .dataframe tbody tr th:only-of-type {\n",
              "        vertical-align: middle;\n",
              "    }\n",
              "\n",
              "    .dataframe tbody tr th {\n",
              "        vertical-align: top;\n",
              "    }\n",
              "\n",
              "    .dataframe thead th {\n",
              "        text-align: right;\n",
              "    }\n",
              "</style>\n",
              "<table border=\"1\" class=\"dataframe\">\n",
              "  <thead>\n",
              "    <tr style=\"text-align: right;\">\n",
              "      <th></th>\n",
              "      <th>Timestamp</th>\n",
              "      <th>CHP1Temp1(Deg C)</th>\n",
              "      <th>CHP1Temp2(Deg C)</th>\n",
              "      <th>CHP2Temp1(Deg C)</th>\n",
              "      <th>CHP2Temp2(Deg C)</th>\n",
              "      <th>CHP1Vib1(mm/s)</th>\n",
              "      <th>CHP1Vib2(mm/s)</th>\n",
              "      <th>CHP2Vib1(mm/s)</th>\n",
              "      <th>CHP2Vib2(mm/s)</th>\n",
              "      <th>Fault</th>\n",
              "    </tr>\n",
              "  </thead>\n",
              "  <tbody>\n",
              "    <tr>\n",
              "      <th>0</th>\n",
              "      <td>3/10/2018 0:00</td>\n",
              "      <td>39.370909</td>\n",
              "      <td>38.637728</td>\n",
              "      <td>40.846605</td>\n",
              "      <td>39.782834</td>\n",
              "      <td>0.060756</td>\n",
              "      <td>0.066139</td>\n",
              "      <td>0.087974</td>\n",
              "      <td>0.097370</td>\n",
              "      <td>0</td>\n",
              "    </tr>\n",
              "    <tr>\n",
              "      <th>1</th>\n",
              "      <td>3/10/2018 0:00</td>\n",
              "      <td>39.390616</td>\n",
              "      <td>38.651286</td>\n",
              "      <td>40.884015</td>\n",
              "      <td>39.805669</td>\n",
              "      <td>0.070343</td>\n",
              "      <td>0.064768</td>\n",
              "      <td>0.094204</td>\n",
              "      <td>0.111891</td>\n",
              "      <td>0</td>\n",
              "    </tr>\n",
              "    <tr>\n",
              "      <th>2</th>\n",
              "      <td>3/10/2018 0:00</td>\n",
              "      <td>39.403041</td>\n",
              "      <td>38.659552</td>\n",
              "      <td>40.926061</td>\n",
              "      <td>39.817418</td>\n",
              "      <td>0.053073</td>\n",
              "      <td>0.053162</td>\n",
              "      <td>0.085925</td>\n",
              "      <td>0.088741</td>\n",
              "      <td>0</td>\n",
              "    </tr>\n",
              "    <tr>\n",
              "      <th>3</th>\n",
              "      <td>3/10/2018 0:00</td>\n",
              "      <td>39.420096</td>\n",
              "      <td>38.677405</td>\n",
              "      <td>40.966947</td>\n",
              "      <td>39.839593</td>\n",
              "      <td>0.059945</td>\n",
              "      <td>0.061724</td>\n",
              "      <td>0.088830</td>\n",
              "      <td>0.100587</td>\n",
              "      <td>0</td>\n",
              "    </tr>\n",
              "    <tr>\n",
              "      <th>4</th>\n",
              "      <td>3/10/2018 0:00</td>\n",
              "      <td>39.430529</td>\n",
              "      <td>38.678065</td>\n",
              "      <td>41.008001</td>\n",
              "      <td>39.849687</td>\n",
              "      <td>0.072104</td>\n",
              "      <td>0.060607</td>\n",
              "      <td>0.089137</td>\n",
              "      <td>0.106438</td>\n",
              "      <td>0</td>\n",
              "    </tr>\n",
              "  </tbody>\n",
              "</table>\n",
              "</div>"
            ],
            "text/plain": [
              "        Timestamp  CHP1Temp1(Deg C)  ...  CHP2Vib2(mm/s)  Fault\n",
              "0  3/10/2018 0:00         39.370909  ...        0.097370      0\n",
              "1  3/10/2018 0:00         39.390616  ...        0.111891      0\n",
              "2  3/10/2018 0:00         39.403041  ...        0.088741      0\n",
              "3  3/10/2018 0:00         39.420096  ...        0.100587      0\n",
              "4  3/10/2018 0:00         39.430529  ...        0.106438      0\n",
              "\n",
              "[5 rows x 10 columns]"
            ]
          },
          "metadata": {
            "tags": []
          },
          "execution_count": 3
        }
      ]
    },
    {
      "cell_type": "code",
      "metadata": {
        "colab": {
          "base_uri": "https://localhost:8080/"
        },
        "id": "5s5PvnSF_aeQ",
        "outputId": "ac556dd8-2981-4e38-c32d-94b48ac2ecc2"
      },
      "source": [
        "data.info()"
      ],
      "execution_count": 4,
      "outputs": [
        {
          "output_type": "stream",
          "text": [
            "<class 'pandas.core.frame.DataFrame'>\n",
            "RangeIndex: 13847 entries, 0 to 13846\n",
            "Data columns (total 10 columns):\n",
            " #   Column            Non-Null Count  Dtype  \n",
            "---  ------            --------------  -----  \n",
            " 0   Timestamp         13847 non-null  object \n",
            " 1   CHP1Temp1(Deg C)  13847 non-null  float64\n",
            " 2   CHP1Temp2(Deg C)  13847 non-null  float64\n",
            " 3   CHP2Temp1(Deg C)  13847 non-null  float64\n",
            " 4   CHP2Temp2(Deg C)  13847 non-null  float64\n",
            " 5   CHP1Vib1(mm/s)    13847 non-null  float64\n",
            " 6   CHP1Vib2(mm/s)    13847 non-null  float64\n",
            " 7   CHP2Vib1(mm/s)    13847 non-null  float64\n",
            " 8   CHP2Vib2(mm/s)    13847 non-null  float64\n",
            " 9   Fault             13847 non-null  int64  \n",
            "dtypes: float64(8), int64(1), object(1)\n",
            "memory usage: 1.1+ MB\n"
          ],
          "name": "stdout"
        }
      ]
    },
    {
      "cell_type": "markdown",
      "metadata": {
        "id": "pn2AC-P0AIY7"
      },
      "source": [
        "Melihat informasi awal data dan mengecek apakah ada ketimpangan jumlah data non-null (indikasi ada data null). Terlihat bahwa semuanya memiliki nilai non-null yang sama berarti tidak ada missing data "
      ]
    },
    {
      "cell_type": "code",
      "metadata": {
        "colab": {
          "base_uri": "https://localhost:8080/",
          "height": 328
        },
        "id": "02QV7Edw_gXa",
        "outputId": "26495430-24e8-420e-f62a-93753a42dbca"
      },
      "source": [
        "data.describe().T"
      ],
      "execution_count": 5,
      "outputs": [
        {
          "output_type": "execute_result",
          "data": {
            "text/html": [
              "<div>\n",
              "<style scoped>\n",
              "    .dataframe tbody tr th:only-of-type {\n",
              "        vertical-align: middle;\n",
              "    }\n",
              "\n",
              "    .dataframe tbody tr th {\n",
              "        vertical-align: top;\n",
              "    }\n",
              "\n",
              "    .dataframe thead th {\n",
              "        text-align: right;\n",
              "    }\n",
              "</style>\n",
              "<table border=\"1\" class=\"dataframe\">\n",
              "  <thead>\n",
              "    <tr style=\"text-align: right;\">\n",
              "      <th></th>\n",
              "      <th>count</th>\n",
              "      <th>mean</th>\n",
              "      <th>std</th>\n",
              "      <th>min</th>\n",
              "      <th>25%</th>\n",
              "      <th>50%</th>\n",
              "      <th>75%</th>\n",
              "      <th>max</th>\n",
              "    </tr>\n",
              "  </thead>\n",
              "  <tbody>\n",
              "    <tr>\n",
              "      <th>CHP1Temp1(Deg C)</th>\n",
              "      <td>13847.0</td>\n",
              "      <td>38.894831</td>\n",
              "      <td>1.657766</td>\n",
              "      <td>34.272883</td>\n",
              "      <td>38.336334</td>\n",
              "      <td>39.569812</td>\n",
              "      <td>39.970923</td>\n",
              "      <td>41.325293</td>\n",
              "    </tr>\n",
              "    <tr>\n",
              "      <th>CHP1Temp2(Deg C)</th>\n",
              "      <td>13847.0</td>\n",
              "      <td>38.372753</td>\n",
              "      <td>1.818556</td>\n",
              "      <td>33.652465</td>\n",
              "      <td>37.233618</td>\n",
              "      <td>39.364623</td>\n",
              "      <td>39.671286</td>\n",
              "      <td>40.638881</td>\n",
              "    </tr>\n",
              "    <tr>\n",
              "      <th>CHP2Temp1(Deg C)</th>\n",
              "      <td>13847.0</td>\n",
              "      <td>37.049863</td>\n",
              "      <td>2.927990</td>\n",
              "      <td>31.602933</td>\n",
              "      <td>35.394773</td>\n",
              "      <td>38.227170</td>\n",
              "      <td>39.413810</td>\n",
              "      <td>43.187444</td>\n",
              "    </tr>\n",
              "    <tr>\n",
              "      <th>CHP2Temp2(Deg C)</th>\n",
              "      <td>13847.0</td>\n",
              "      <td>37.083295</td>\n",
              "      <td>3.476318</td>\n",
              "      <td>31.247236</td>\n",
              "      <td>34.523069</td>\n",
              "      <td>37.395959</td>\n",
              "      <td>40.465354</td>\n",
              "      <td>41.962697</td>\n",
              "    </tr>\n",
              "    <tr>\n",
              "      <th>CHP1Vib1(mm/s)</th>\n",
              "      <td>13847.0</td>\n",
              "      <td>0.998612</td>\n",
              "      <td>0.616521</td>\n",
              "      <td>0.046510</td>\n",
              "      <td>0.070278</td>\n",
              "      <td>1.322656</td>\n",
              "      <td>1.473305</td>\n",
              "      <td>1.610700</td>\n",
              "    </tr>\n",
              "    <tr>\n",
              "      <th>CHP1Vib2(mm/s)</th>\n",
              "      <td>13847.0</td>\n",
              "      <td>1.345662</td>\n",
              "      <td>0.853053</td>\n",
              "      <td>0.045864</td>\n",
              "      <td>0.067707</td>\n",
              "      <td>1.778066</td>\n",
              "      <td>1.967611</td>\n",
              "      <td>2.390570</td>\n",
              "    </tr>\n",
              "    <tr>\n",
              "      <th>CHP2Vib1(mm/s)</th>\n",
              "      <td>13847.0</td>\n",
              "      <td>0.934057</td>\n",
              "      <td>0.619965</td>\n",
              "      <td>0.068607</td>\n",
              "      <td>0.091273</td>\n",
              "      <td>0.935697</td>\n",
              "      <td>1.525421</td>\n",
              "      <td>1.785126</td>\n",
              "    </tr>\n",
              "    <tr>\n",
              "      <th>CHP2Vib2(mm/s)</th>\n",
              "      <td>13847.0</td>\n",
              "      <td>1.763645</td>\n",
              "      <td>1.268073</td>\n",
              "      <td>0.082864</td>\n",
              "      <td>0.108075</td>\n",
              "      <td>1.670248</td>\n",
              "      <td>2.952790</td>\n",
              "      <td>3.950299</td>\n",
              "    </tr>\n",
              "    <tr>\n",
              "      <th>Fault</th>\n",
              "      <td>13847.0</td>\n",
              "      <td>0.393082</td>\n",
              "      <td>0.488452</td>\n",
              "      <td>0.000000</td>\n",
              "      <td>0.000000</td>\n",
              "      <td>0.000000</td>\n",
              "      <td>1.000000</td>\n",
              "      <td>1.000000</td>\n",
              "    </tr>\n",
              "  </tbody>\n",
              "</table>\n",
              "</div>"
            ],
            "text/plain": [
              "                    count       mean       std  ...        50%        75%        max\n",
              "CHP1Temp1(Deg C)  13847.0  38.894831  1.657766  ...  39.569812  39.970923  41.325293\n",
              "CHP1Temp2(Deg C)  13847.0  38.372753  1.818556  ...  39.364623  39.671286  40.638881\n",
              "CHP2Temp1(Deg C)  13847.0  37.049863  2.927990  ...  38.227170  39.413810  43.187444\n",
              "CHP2Temp2(Deg C)  13847.0  37.083295  3.476318  ...  37.395959  40.465354  41.962697\n",
              "CHP1Vib1(mm/s)    13847.0   0.998612  0.616521  ...   1.322656   1.473305   1.610700\n",
              "CHP1Vib2(mm/s)    13847.0   1.345662  0.853053  ...   1.778066   1.967611   2.390570\n",
              "CHP2Vib1(mm/s)    13847.0   0.934057  0.619965  ...   0.935697   1.525421   1.785126\n",
              "CHP2Vib2(mm/s)    13847.0   1.763645  1.268073  ...   1.670248   2.952790   3.950299\n",
              "Fault             13847.0   0.393082  0.488452  ...   0.000000   1.000000   1.000000\n",
              "\n",
              "[9 rows x 8 columns]"
            ]
          },
          "metadata": {
            "tags": []
          },
          "execution_count": 5
        }
      ]
    },
    {
      "cell_type": "markdown",
      "metadata": {
        "id": "RVlpbIZkAmWc"
      },
      "source": [
        "Meninjau statistik dari data. Dilihat dari standard deviasi, data yang paling seragam adalah CHP1Vib1 sedangkan paling terdispersi adalah CHP2Temp2.   "
      ]
    },
    {
      "cell_type": "code",
      "metadata": {
        "colab": {
          "base_uri": "https://localhost:8080/",
          "height": 624
        },
        "id": "reG7MRy1AklW",
        "outputId": "c7a8c703-d937-4e90-e2b2-bf13a5205969"
      },
      "source": [
        "fig,ax = plt.subplots(figsize=(20,10))\n",
        "sb.heatmap(data.loc[:,data.columns != \"Fault\" ].corr(),ax=ax,annot=True)\n",
        "ax.set_title(\"Correlation Plot Training Data\")"
      ],
      "execution_count": 6,
      "outputs": [
        {
          "output_type": "execute_result",
          "data": {
            "text/plain": [
              "Text(0.5, 1.0, 'Correlation Plot Training Data')"
            ]
          },
          "metadata": {
            "tags": []
          },
          "execution_count": 6
        },
        {
          "output_type": "display_data",
          "data": {
            "image/png": "[encoded data removed]",
            "text/plain": [
              "<Figure size 1440x720 with 2 Axes>"
            ]
          },
          "metadata": {
            "tags": [],
            "needs_background": "light"
          }
        }
      ]
    },
    {
      "cell_type": "markdown",
      "metadata": {
        "id": "DmF8O52YCthW"
      },
      "source": [
        "Terlihat dari plot, semua atribut menunjukkan korelasi positif dengan nilai yang berbeda-beda. Yang tertinggi antara CHP1Vib1 dengan CHP1Vib2 sedangkan yang terkecil antara CHP2Temp1 dengan CHP1Vib1.   "
      ]
    },
    {
      "cell_type": "code",
      "metadata": {
        "colab": {
          "base_uri": "https://localhost:8080/"
        },
        "id": "jTBcNSIdhqMS",
        "outputId": "7030829f-12d3-4f39-8ef8-5ac9a3564028"
      },
      "source": [
        "data.columns.values"
      ],
      "execution_count": 7,
      "outputs": [
        {
          "output_type": "execute_result",
          "data": {
            "text/plain": [
              "array(['Timestamp', 'CHP1Temp1(Deg C)', 'CHP1Temp2(Deg C)',\n",
              "       'CHP2Temp1(Deg C)', 'CHP2Temp2(Deg C)', 'CHP1Vib1(mm/s)',\n",
              "       'CHP1Vib2(mm/s)', 'CHP2Vib1(mm/s)', 'CHP2Vib2(mm/s)', 'Fault'],\n",
              "      dtype=object)"
            ]
          },
          "metadata": {
            "tags": []
          },
          "execution_count": 7
        }
      ]
    },
    {
      "cell_type": "code",
      "metadata": {
        "id": "cucVDZVDhIm1"
      },
      "source": [
        "data_numeric = data.copy().drop(['Timestamp','Fault'],1)"
      ],
      "execution_count": 8,
      "outputs": []
    },
    {
      "cell_type": "code",
      "metadata": {
        "colab": {
          "base_uri": "https://localhost:8080/",
          "height": 624
        },
        "id": "kRjEbFych0zy",
        "outputId": "8cd8e56a-844d-4738-9d53-8c40c213573f"
      },
      "source": [
        "fig1,ax1 = plt.subplots(figsize=(20,10))\n",
        "ax1 = sb.boxplot(data=data_numeric, orient=\"h\", palette=\"Set2\")\n",
        "ax1.set_title(\"Box-Plot Training Data\")"
      ],
      "execution_count": 9,
      "outputs": [
        {
          "output_type": "execute_result",
          "data": {
            "text/plain": [
              "Text(0.5, 1.0, 'Box-Plot Training Data')"
            ]
          },
          "metadata": {
            "tags": []
          },
          "execution_count": 9
        },
        {
          "output_type": "display_data",
          "data": {
            "image/png": "[encoded data removed]",
            "text/plain": [
              "<Figure size 1440x720 with 1 Axes>"
            ]
          },
          "metadata": {
            "tags": [],
            "needs_background": "light"
          }
        }
      ]
    },
    {
      "cell_type": "markdown",
      "metadata": {
        "id": "9LZN-kAam--T"
      },
      "source": [
        "Pada boxplot, terlihat banyak outliers (extreme-low) pada CHP1Temp1(Deg C). Hal ini bisa berpengaruh pada proses learning model. Hal ini mungkin perlu investigasi lebih lanjut untuk penanganan kedepannya. Sedangkan atribut lain, ada yang berupa normal distribution dan skewed. Untuk skewed, bisa diterapkan transformation untuk membuat distribusinya mendekati normal/bell-shaped."
      ]
    },
    {
      "cell_type": "code",
      "metadata": {
        "colab": {
          "base_uri": "https://localhost:8080/",
          "height": 567
        },
        "id": "WSj_PIZhEpUJ",
        "outputId": "069fb206-c888-4c90-9506-fb37b942676b"
      },
      "source": [
        "plt.figure(figsize=(12,8))\n",
        "plt.title(\"Distribusi Faulty\")\n",
        "plt.ylabel('Jumlah')\n",
        "sb.distplot(data['Fault'],kde=False);"
      ],
      "execution_count": 10,
      "outputs": [
        {
          "output_type": "stream",
          "text": [
            "/usr/local/lib/python3.7/dist-packages/seaborn/distributions.py:2557: FutureWarning: `distplot` is a deprecated function and will be removed in a future version. Please adapt your code to use either `displot` (a figure-level function with similar flexibility) or `histplot` (an axes-level function for histograms).\n",
            "  warnings.warn(msg, FutureWarning)\n"
          ],
          "name": "stderr"
        },
        {
          "output_type": "display_data",
          "data": {
            "image/png": "[encoded data removed]",
            "text/plain": [
              "<Figure size 864x576 with 1 Axes>"
            ]
          },
          "metadata": {
            "tags": [],
            "needs_background": "light"
          }
        }
      ]
    },
    {
      "cell_type": "markdown",
      "metadata": {
        "id": "j9eF2AO4Y2aG"
      },
      "source": [
        "Terdapat perbedaan kelas antara Fault (1) dengan Normal (0). Hal ini akan berpengaruh terhadap learning dari model yang digunakan. Hal ini bisa diatasi dengan pembagian stratifikasi saat train/train split atau parameter class_weight pada algoritma ML seperti Random Forest "
      ]
    },
    {
      "cell_type": "code",
      "metadata": {
        "id": "M6rc8fdKF-Wh"
      },
      "source": [
        "from sklearn.preprocessing import MinMaxScaler, RobustScaler, StandardScaler\n",
        "from sklearn.model_selection import train_test_split, StratifiedShuffleSplit, GridSearchCV,RandomizedSearchCV,cross_val_score,cross_validate\n",
        "from sklearn.ensemble import RandomForestClassifier, GradientBoostingClassifier, BaggingClassifier, AdaBoostClassifier\n",
        "from sklearn.tree import DecisionTreeClassifier\n",
        "from sklearn.metrics import mean_squared_error,make_scorer, mean_absolute_error\n",
        "from sklearn.metrics import classification_report,confusion_matrix,f1_score,precision_score,recall_score,roc_auc_score,roc_curve, plot_confusion_matrix\n",
        "from math import sqrt\n",
        "from sklearn.linear_model import SGDClassifier, LogisticRegression\n",
        "from sklearn.svm import SVC\n",
        "from typing import List\n",
        "\n",
        "def split_training_stratified(data_train:object,target_column:str,\n",
        "                              test_size:float=0.2,splits:int=1)->List[object]:\n",
        "    \"\"\"\n",
        "    Menyamaratakan distribusi data pada subset terkait dan dipisah sesuai dengan porsi yang telah ditentukan\n",
        "    \n",
        "    Parameters:\n",
        "        data_train      : Data (atribut) untuk training\n",
        "        target_column   : Atribut yang diprediksi pada data_train\n",
        "        test_size       : Porsi subset data untuk test hasil training\n",
        "        splits          : Pembagian subset/batch data training oleh algoritma stratified-split scikit-learn\n",
        "    Output:\n",
        "        X_train [List]  : Subset data training\n",
        "        y_train [List]  : Target value untuk data training\n",
        "        X_test  [List]  : Subset data testing\n",
        "        y_test  [List]  : Target value untuk data testing\n",
        "    \"\"\"\n",
        "    df_train = data_train.copy()\n",
        "    X = df_train.drop(target_column,axis=1)\n",
        "    y = df_train[target_column]\n",
        "    Split = StratifiedShuffleSplit(n_splits=splits, test_size=test_size)\n",
        "    for train_index, test_index in Split.split(X, y):\n",
        "        X_train, X_test = X.iloc[train_index], X.iloc[test_index]\n",
        "        y_train, y_test = y[train_index], y[test_index]\n",
        "    return X_train,X_test,y_train,y_test\n",
        "\n",
        "def split_training(data_train:object,target_column:str,test_size:float=0.2,shuffle:bool=True)->List[object]:\n",
        "    \"\"\"\n",
        "    Memisahkan data training (tanpa proses stratifikasi) sesuai dengan porsi yang ditentukan.\n",
        "    \n",
        "    Parameters:\n",
        "        data_train      : Data (atribut) untuk training\n",
        "        target_column   : Atribut yang diprediksi pada data_train\n",
        "        test_size       : Porsi subset data untuk test hasil training\n",
        "        shuffle         : Pengacakan data training untuk meminimalkan bias\n",
        "    Output:\n",
        "        X_train [List]  : Subset data training\n",
        "        y_train [List]  : Target value untuk data training\n",
        "        X_test  [List]  : Subset data testing\n",
        "        y_test  [List]  : Target value untuk data testing\n",
        "    \"\"\"\n",
        "    df_train2 = data_train.copy().sample(frac=1)\n",
        "    X = df_train2.drop(target_column,axis=1)\n",
        "    y = df_train2[target_column]\n",
        "    X_train, X_test, y_train, y_test = train_test_split(X, y, test_size=test_size, random_state=101, shuffle=shuffle)\n",
        "    return X_train, X_test, y_train, y_test\n",
        "\n",
        "def normalize(data_train:object,data_test:object,\n",
        "              types:str=\"MinMax\")->object:\n",
        "    \"\"\"\n",
        "    Penyamarataan nilai atribute dalam rentang/skala yang sama. \n",
        "    \n",
        "    Parameters:\n",
        "        data_train      : Data (atribut) untuk training\n",
        "        data_test       : Data (atribut) untuk testing\n",
        "        types           : Tipe normalisasi (Minmax, Standard, Robust)\n",
        "    Output:\n",
        "        scaled_train [object]  : Data train yang telah dinormalisasi\n",
        "        scaled_test  [object]  : Data test yang telah dinormalisasi\n",
        "        scaler       [object]  : Scaling variable dengan catatan skala data terkait\n",
        "    \"\"\"\n",
        "    scaler = None\n",
        "    if types == \"Standard\":\n",
        "        scaler = StandardScaler()\n",
        "    elif types == \"Robust\":\n",
        "        scaler = RobustScaler()\n",
        "    else:\n",
        "        scaler = MinMaxScaler()\n",
        "    scaler.fit(data_train)\n",
        "    scaled_train = scaler.transform(data_train)\n",
        "    scaled_test = scaler.transform(data_test)\n",
        "    return scaled_train,scaled_test,scaler\n",
        "\n",
        "def scale_transform(data:object,scaler:object) -> List:\n",
        "    \"\"\"\n",
        "    Mengubah nilai data dengan skala tertentu.\n",
        "\n",
        "    Parameters:\n",
        "        data     : Objek data (dataframe)\n",
        "        scaler   : Pengubah (objek dari sklearn)\n",
        "    Output:\n",
        "        scaled_data [List] : Data yang sesuai dengan skala \n",
        "    \"\"\"\n",
        "    data_copy = data.copy()\n",
        "    return scaler.transform(data_copy)\n",
        "\n",
        "def RMSE(y_pred:List,y_true:List)->float:\n",
        "    \"\"\"\n",
        "    Metrik penilaian model berdasarkan root-mean-squared-error. \n",
        "    \n",
        "    Parameters:\n",
        "        y_pred      : Target value hasil prediksi model\n",
        "        y_true      : Target value sebenarnya\n",
        "    Output:\n",
        "        error (float) : Nilai RMSE\n",
        "    \"\"\"\n",
        "    return mean_squared_error(y_pred,y_true)**0.5\n",
        "\n",
        "def model_fitting(X:List,y:List,model_dict:dict={})->dict:\n",
        "    \"\"\"\n",
        "    Training atau fitting model dengan data training \n",
        "    \n",
        "    Parameters:\n",
        "        X           : Subset data training\n",
        "        y           : Subset target training\n",
        "        model_dict  : Kumpulan model training\n",
        "    Output:\n",
        "        metrik [dict]  : Kumpulan metrik model terkait\n",
        "    \"\"\"\n",
        "    result = {}\n",
        "    for name,estimator in model_dict.items():\n",
        "        estimator.fit(X,y)\n",
        "        result_est = estimator.score(X,y)*100\n",
        "        result[name] = float(\"{:.2f}\".format(result_est))\n",
        "    return result\n",
        "\n",
        "def cross_validate_model(X:List,y:List,folds:int=3,model_dict:dict={})->dict:\n",
        "    \"\"\"\n",
        "    Training atau fitting model dengan metode cross-validation \n",
        "    \n",
        "    Parameters:\n",
        "        X           : Subset data training\n",
        "        y           : Subset target training\n",
        "        model_dict  : Kumpulan model training\n",
        "        folds       : Jumlah partisi subset data untuk cross-validation\n",
        "    Output:\n",
        "        metrik [dict]  : Kumpulan metrik model terkait\n",
        "    \"\"\"\n",
        "    result = {}\n",
        "    for name,estimator in model_dict.items():\n",
        "        cv_results = cross_validate(estimator, X, y, cv=folds)\n",
        "        result_est = np.mean(cv_results['test_score'])*100\n",
        "        result[name] = float(\"{:.2f}\".format(result_est))\n",
        "    return result\n",
        "\n",
        "def model_testing(X:List,y:List,model_dict:dict={})->dict:\n",
        "    \"\"\"\n",
        "    Testing model terkait dengan true target \n",
        "    \n",
        "    Parameters:\n",
        "        X           : Subset data training\n",
        "        y           : Subset target training (true)\n",
        "        model_dict  : Kumpulan model training\n",
        "    Output:\n",
        "        metrik [dict]  : Kumpulan metrik model terkait\n",
        "    \"\"\"\n",
        "    result = {}\n",
        "    for name,estimator in model_dict.items():\n",
        "        result_est = estimator.score(X,y) * 100\n",
        "        result[name] = float(\"{:.2f}\".format(result_est))\n",
        "    return result\n",
        "\n",
        "def model_predict(X:List,y_true:List,model_dict:dict={})->dict:\n",
        "    \"\"\"\n",
        "    Prediksi target data blank dengan model \n",
        "    \n",
        "    Parameters:\n",
        "        X           : Subset data testing\n",
        "        y           : Subset target training (true)\n",
        "        model_dict  : Kumpulan model training\n",
        "    Output:\n",
        "        metrik [dict]  : Kumpulan metrik model terkait\n",
        "    \"\"\"\n",
        "    result = {}\n",
        "    result['True'] = y_true\n",
        "    for name,estimator in model_dict.items():\n",
        "        result_est = estimator.predict(X)\n",
        "        result[name] = result_est\n",
        "    data = pd.DataFrame(result)\n",
        "    data.reset_index(inplace=True)\n",
        "    data.drop('index',axis=1,inplace=True)\n",
        "    return data\n",
        "\n",
        "def model_metric(y_true:List,model_dict:dict={})->dict:\n",
        "    \"\"\"\n",
        "    Metrik prediksi target oleh model training \n",
        "    \n",
        "    Parameters:\n",
        "        y_true      : Subset target (true)\n",
        "        model_dict  : Kumpulan model training\n",
        "    Output:\n",
        "        metrik [dict]  : Kumpulan metrik model terkait\n",
        "    \"\"\"\n",
        "    result = {}\n",
        "    report = {}\n",
        "    for name,arrays in model_dict.items():\n",
        "        result_est = confusion_matrix(arrays,y_true)\n",
        "        report_est = classification_report(arrays,y_true)\n",
        "        result[name] = result_est\n",
        "        report[name] = report_est\n",
        "    return result,report\n",
        "\n",
        "def model_metric_ROC(y_true:List,X_test:List,model_dict:dict={})->dict:\n",
        "    \"\"\"\n",
        "    Metrik MAE prediksi target oleh model training\n",
        "    \n",
        "    Parameters:\n",
        "        y_true      : Subset target (true)\n",
        "        model_dict  : Kumpulan model training\n",
        "    Output:\n",
        "        metrik [dict]  : Kumpulan metrik model terkait\n",
        "    \"\"\"\n",
        "    result = {}\n",
        "    for name,arrays in model_dict.items():\n",
        "        result_est = roc_auc_score(y_true,arrays.predict_proba(X)[:,1])\n",
        "        result[name] = result_est\n",
        "    return result\n",
        "\n",
        "def save_model(model_dict:dict={},prefix:str='') -> object:\n",
        "    \"\"\"\n",
        "    Save ML model into joblib object\n",
        "    \n",
        "    Parameters:\n",
        "        model_dict  : Kumpulan model training\n",
        "    Output:\n",
        "        ML_model [object]  : Model ML dengan format joblib\n",
        "    \"\"\"\n",
        "    for name,model in model_dict.items():\n",
        "        joblib.dump(model,prefix+name+'.joblib')\n",
        "\n",
        "def save_scaler(scaler:object,name:str) -> object:\n",
        "    \"\"\"\n",
        "    Save scaler model into joblib object\n",
        "    \n",
        "    Parameters:\n",
        "        scaler  : Model scaler\n",
        "    Output:\n",
        "        Scaler_model [object]  : Model scaler dengan format joblib\n",
        "    \"\"\"\n",
        "    joblib.dump(scaler,name+'.joblib')\n",
        "    \n",
        "\n",
        "rmse = make_scorer(RMSE,greater_is_better=False)"
      ],
      "execution_count": 11,
      "outputs": []
    },
    {
      "cell_type": "code",
      "metadata": {
        "id": "d3n45s6-Ibne"
      },
      "source": [
        "# DROP Timestamp\n",
        "data.drop(['Timestamp'],axis=1,inplace=True)"
      ],
      "execution_count": 12,
      "outputs": []
    },
    {
      "cell_type": "markdown",
      "metadata": {
        "id": "0zSTmEyib8tC"
      },
      "source": [
        "Men-drop atribute timestamp karena berupa data non-numerik dan tidak digunakan lebih jauh dalam algoritma supervised classification."
      ]
    },
    {
      "cell_type": "code",
      "metadata": {
        "id": "bDcUZ9kPb4lV"
      },
      "source": [
        "X_train, X_predict, y_train, y_predict = split_training(data,target_column='Fault',test_size=0.2,shuffle=False)"
      ],
      "execution_count": 13,
      "outputs": []
    },
    {
      "cell_type": "markdown",
      "metadata": {
        "id": "n5PHJBptdT9l"
      },
      "source": [
        "Pembagian ini dilakukan untuk memisahkan data training dan prediction. Data training akan dipisah lagi menjadi data training dan data test/validation sedangkan data prediction akan digunakan untuk menguji akurasi model pada data yang belum pernah dilihat. Untuk porsinya, mengikuti pattern umum yaitu 80:20."
      ]
    },
    {
      "cell_type": "code",
      "metadata": {
        "colab": {
          "base_uri": "https://localhost:8080/",
          "height": 204
        },
        "id": "BB1xXiP2ei7j",
        "outputId": "fea91dca-2a28-4ece-b59f-bca063255e5d"
      },
      "source": [
        "data_train = pd.concat([X_train,y_train],axis=1).reset_index().drop('index',1)\n",
        "data_train.head()"
      ],
      "execution_count": 14,
      "outputs": [
        {
          "output_type": "execute_result",
          "data": {
            "text/html": [
              "<div>\n",
              "<style scoped>\n",
              "    .dataframe tbody tr th:only-of-type {\n",
              "        vertical-align: middle;\n",
              "    }\n",
              "\n",
              "    .dataframe tbody tr th {\n",
              "        vertical-align: top;\n",
              "    }\n",
              "\n",
              "    .dataframe thead th {\n",
              "        text-align: right;\n",
              "    }\n",
              "</style>\n",
              "<table border=\"1\" class=\"dataframe\">\n",
              "  <thead>\n",
              "    <tr style=\"text-align: right;\">\n",
              "      <th></th>\n",
              "      <th>CHP1Temp1(Deg C)</th>\n",
              "      <th>CHP1Temp2(Deg C)</th>\n",
              "      <th>CHP2Temp1(Deg C)</th>\n",
              "      <th>CHP2Temp2(Deg C)</th>\n",
              "      <th>CHP1Vib1(mm/s)</th>\n",
              "      <th>CHP1Vib2(mm/s)</th>\n",
              "      <th>CHP2Vib1(mm/s)</th>\n",
              "      <th>CHP2Vib2(mm/s)</th>\n",
              "      <th>Fault</th>\n",
              "    </tr>\n",
              "  </thead>\n",
              "  <tbody>\n",
              "    <tr>\n",
              "      <th>0</th>\n",
              "      <td>40.385447</td>\n",
              "      <td>39.698230</td>\n",
              "      <td>39.634553</td>\n",
              "      <td>40.640848</td>\n",
              "      <td>1.415930</td>\n",
              "      <td>2.176034</td>\n",
              "      <td>1.549574</td>\n",
              "      <td>3.284981</td>\n",
              "      <td>0</td>\n",
              "    </tr>\n",
              "    <tr>\n",
              "      <th>1</th>\n",
              "      <td>39.543479</td>\n",
              "      <td>39.161948</td>\n",
              "      <td>38.716493</td>\n",
              "      <td>39.825693</td>\n",
              "      <td>1.133516</td>\n",
              "      <td>1.474800</td>\n",
              "      <td>1.493329</td>\n",
              "      <td>2.932609</td>\n",
              "      <td>0</td>\n",
              "    </tr>\n",
              "    <tr>\n",
              "      <th>2</th>\n",
              "      <td>38.369124</td>\n",
              "      <td>36.922744</td>\n",
              "      <td>39.364564</td>\n",
              "      <td>37.409528</td>\n",
              "      <td>0.061664</td>\n",
              "      <td>0.066014</td>\n",
              "      <td>0.076650</td>\n",
              "      <td>0.107367</td>\n",
              "      <td>0</td>\n",
              "    </tr>\n",
              "    <tr>\n",
              "      <th>3</th>\n",
              "      <td>39.156276</td>\n",
              "      <td>39.047713</td>\n",
              "      <td>38.815648</td>\n",
              "      <td>39.774064</td>\n",
              "      <td>1.333484</td>\n",
              "      <td>2.084477</td>\n",
              "      <td>1.509811</td>\n",
              "      <td>3.331260</td>\n",
              "      <td>0</td>\n",
              "    </tr>\n",
              "    <tr>\n",
              "      <th>4</th>\n",
              "      <td>39.765895</td>\n",
              "      <td>39.198481</td>\n",
              "      <td>35.789659</td>\n",
              "      <td>34.394491</td>\n",
              "      <td>1.536639</td>\n",
              "      <td>1.945445</td>\n",
              "      <td>0.801780</td>\n",
              "      <td>1.353768</td>\n",
              "      <td>1</td>\n",
              "    </tr>\n",
              "  </tbody>\n",
              "</table>\n",
              "</div>"
            ],
            "text/plain": [
              "   CHP1Temp1(Deg C)  CHP1Temp2(Deg C)  ...  CHP2Vib2(mm/s)  Fault\n",
              "0         40.385447         39.698230  ...        3.284981      0\n",
              "1         39.543479         39.161948  ...        2.932609      0\n",
              "2         38.369124         36.922744  ...        0.107367      0\n",
              "3         39.156276         39.047713  ...        3.331260      0\n",
              "4         39.765895         39.198481  ...        1.353768      1\n",
              "\n",
              "[5 rows x 9 columns]"
            ]
          },
          "metadata": {
            "tags": []
          },
          "execution_count": 14
        }
      ]
    },
    {
      "cell_type": "code",
      "metadata": {
        "id": "_rAtXVvkeBsz"
      },
      "source": [
        "X_Train, X_Test, y_Train, y_Test = split_training(data_train,target_column='Fault',test_size=0.2,shuffle=True)"
      ],
      "execution_count": 15,
      "outputs": []
    },
    {
      "cell_type": "code",
      "metadata": {
        "colab": {
          "base_uri": "https://localhost:8080/"
        },
        "id": "rNR_l_o-Aj2h",
        "outputId": "b73aa43f-ba75-4172-b773-a6cb1ff8b870"
      },
      "source": [
        "print(y_Train.value_counts(),'Random-Shuffle Subset Training\\n')\n",
        "print(y_Test.value_counts(),'Random-Shuffle Subset Testing\\n')\n",
        "print(y_train.value_counts(),'Data Training\\n')"
      ],
      "execution_count": 16,
      "outputs": [
        {
          "output_type": "stream",
          "text": [
            "0    5385\n",
            "1    3476\n",
            "Name: Fault, dtype: int64 Random-Shuffle Subset Training\n",
            "\n",
            "0    1335\n",
            "1     881\n",
            "Name: Fault, dtype: int64 Random-Shuffle Subset Testing\n",
            "\n",
            "0    6720\n",
            "1    4357\n",
            "Name: Fault, dtype: int64 Data Training\n",
            "\n"
          ],
          "name": "stdout"
        }
      ]
    },
    {
      "cell_type": "markdown",
      "metadata": {
        "id": "gQxsBdcFaej5"
      },
      "source": [
        "Hasil dari random-shuffle train_test_split menggambarkan distribusi class yang berbeda dimana pada subset training, class Fault (1) sekitar 64,85 persen sedangkan pada subset testing sekitar 61,63 persen. Pada data training, class Fault (1) sekitar 64,2 persen. Hal ini akan berpengaruh pada hasil training dan testing saat model-fitting yang secara tidak langsung memengaruhi hasil prediksi pada subset prediction. Parameter 'shuffle' berguna untuk mengurangi pengaruh bias yang diakibatkan pola data mentah. "
      ]
    },
    {
      "cell_type": "code",
      "metadata": {
        "id": "sydwUJw2fotK"
      },
      "source": [
        "scaled_train,scaled_test,scaler = normalize(X_Train,X_Test)"
      ],
      "execution_count": 17,
      "outputs": []
    },
    {
      "cell_type": "markdown",
      "metadata": {
        "id": "CpbTMNn3Zwgd"
      },
      "source": [
        "Normalisasi data dilakukan untuk peningkatan learning dan konsistensi model. Dengan skala yang sama, model dapat lebih cepat mencapat titik konvergensi dan akurasi yang didapatkan lebih tinggi. Skala yang digunakan berasal dari subset training yang kemudian diaplikasikan pada subset training dan testing. Hal ini dilakukan untuk mencegah data-leak pada subset testing."
      ]
    },
    {
      "cell_type": "code",
      "metadata": {
        "colab": {
          "base_uri": "https://localhost:8080/"
        },
        "id": "JHfeFBWhe-G7",
        "outputId": "462faba7-3ff1-4034-8c2c-49d98950459f"
      },
      "source": [
        "model_learning = {\n",
        "    'RandomForest':RandomForestClassifier(),\n",
        "    'DecisionTree':DecisionTreeClassifier(),\n",
        "    'GradientBoosting':GradientBoostingClassifier(),\n",
        "    'LogisticRegression':LogisticRegression(),\n",
        "    'AdaBoost':AdaBoostClassifier(),\n",
        "    'SGD':SGDClassifier(),\n",
        "    'Bagging':BaggingClassifier()\n",
        "}\n",
        "early_cross = cross_validate_model(scaled_train,y_Train,folds=5,model_dict=model_learning)\n",
        "early_result = model_fitting(scaled_train,y_Train,model_learning)\n",
        "early_test = model_testing(scaled_test,y_Test,model_learning)\n",
        "early_dev = {name: float(\"{:.2f}\".format(early_result[name]-early_test[name])) for name in early_result}\n",
        "print(f'Learning Result :  \\n', early_result)\n",
        "print('\\n')\n",
        "print(f'Cross_VAL Result :  \\n',early_cross)\n",
        "print('\\n')\n",
        "print(f'Testing Result :  \\n',early_test)\n",
        "print('\\n')\n",
        "print(f'Deviation of Training and Testing : \\n',early_dev)"
      ],
      "execution_count": 18,
      "outputs": [
        {
          "output_type": "stream",
          "text": [
            "Learning Result :  \n",
            " {'RandomForest': 100.0, 'DecisionTree': 100.0, 'GradientBoosting': 100.0, 'LogisticRegression': 99.98, 'AdaBoost': 100.0, 'SGD': 99.98, 'Bagging': 100.0}\n",
            "\n",
            "\n",
            "Cross_VAL Result :  \n",
            " {'RandomForest': 99.98, 'DecisionTree': 99.93, 'GradientBoosting': 99.93, 'LogisticRegression': 99.97, 'AdaBoost': 99.97, 'SGD': 99.98, 'Bagging': 99.97}\n",
            "\n",
            "\n",
            "Testing Result :  \n",
            " {'RandomForest': 100.0, 'DecisionTree': 99.86, 'GradientBoosting': 99.91, 'LogisticRegression': 99.95, 'AdaBoost': 99.91, 'SGD': 99.95, 'Bagging': 99.95}\n",
            "\n",
            "\n",
            "Deviation of Training and Testing : \n",
            " {'RandomForest': 0.0, 'DecisionTree': 0.14, 'GradientBoosting': 0.09, 'LogisticRegression': 0.03, 'AdaBoost': 0.09, 'SGD': 0.03, 'Bagging': 0.05}\n"
          ],
          "name": "stdout"
        }
      ]
    },
    {
      "cell_type": "markdown",
      "metadata": {
        "id": "ljD5avZXcdoj"
      },
      "source": [
        "Hasil dari learning berupa model-fitting dan cross-validation menunjukkan nilai score (akurasi) yang tinggi serta deviasi antara keduanya tidak terlalu besar. Hal ini berarti model telah mempelajari pola subset training dan memprediksi subset testing dengan baik.  "
      ]
    },
    {
      "cell_type": "code",
      "metadata": {
        "colab": {
          "base_uri": "https://localhost:8080/"
        },
        "id": "2Wf6xYSFf6ZN",
        "outputId": "af85585d-ab93-4d36-e53c-07540d7289c9"
      },
      "source": [
        "print('RANDOMIZED MODEL SCORES ON PREDICTION SET (UNSEEN DATA)')\n",
        "scaled_predict = scale_transform(X_predict,scaler)\n",
        "tunning_score = model_testing(scaled_predict,y_predict,model_learning)\n",
        "tunning_score"
      ],
      "execution_count": 19,
      "outputs": [
        {
          "output_type": "stream",
          "text": [
            "RANDOMIZED MODEL SCORES ON PREDICTION SET (UNSEEN DATA)\n"
          ],
          "name": "stdout"
        },
        {
          "output_type": "execute_result",
          "data": {
            "text/plain": [
              "{'AdaBoost': 99.86,\n",
              " 'Bagging': 99.82,\n",
              " 'DecisionTree': 99.82,\n",
              " 'GradientBoosting': 99.86,\n",
              " 'LogisticRegression': 99.96,\n",
              " 'RandomForest': 99.89,\n",
              " 'SGD': 99.96}"
            ]
          },
          "metadata": {
            "tags": []
          },
          "execution_count": 19
        }
      ]
    },
    {
      "cell_type": "markdown",
      "metadata": {
        "id": "LkK8mqN-dYgL"
      },
      "source": [
        "Hasil prediksi dari learning model menunjukkan nilai score (akurasi) yang tinggi juga. Hal ini berarti model tidak mengalami overfitting (nilai akurasi prediksi lebih kecil dibanding training) ataupun underfitting (nilai akurasi training lebih kecil sehingga berdampak sebanding pada akurasi prediksi).  "
      ]
    },
    {
      "cell_type": "code",
      "metadata": {
        "id": "ou47bnwV9GKe"
      },
      "source": [
        "X_Train_S, X_Test_S, y_Train_S, y_Test_S = split_training_stratified(data_train,target_column='Fault',test_size=0.2,splits=10)"
      ],
      "execution_count": 20,
      "outputs": []
    },
    {
      "cell_type": "markdown",
      "metadata": {
        "id": "jh40EdgheJaj"
      },
      "source": [
        "Untuk perbandingan lebih lanjut, digunakan data dengan distribusi sebanding dengan data awal (stratifikasi). Selanjutnya akan dilakukan model fitting untuk melihat perbedaan nilai akurasi yang didapatkan. "
      ]
    },
    {
      "cell_type": "code",
      "metadata": {
        "colab": {
          "base_uri": "https://localhost:8080/"
        },
        "id": "hNGsJXTo9r8U",
        "outputId": "bbc05cea-fab5-4918-8a37-81e5cecc645a"
      },
      "source": [
        "print(y_Train_S.value_counts(),'Stratified Subset Training\\n')\n",
        "print(y_Test_S.value_counts(),'Stratified Subset Testing\\n')\n",
        "print(y_train.value_counts(),'Data Training\\n')"
      ],
      "execution_count": 21,
      "outputs": [
        {
          "output_type": "stream",
          "text": [
            "0    5376\n",
            "1    3485\n",
            "Name: Fault, dtype: int64 Stratified Subset Training\n",
            "\n",
            "0    1344\n",
            "1     872\n",
            "Name: Fault, dtype: int64 Stratified Subset Testing\n",
            "\n",
            "0    6720\n",
            "1    4357\n",
            "Name: Fault, dtype: int64 Data Training\n",
            "\n"
          ],
          "name": "stdout"
        }
      ]
    },
    {
      "cell_type": "markdown",
      "metadata": {
        "id": "Jkz-46iYeuIL"
      },
      "source": [
        "Hasil dari stratified train_test_split menggambarkan distribusi class yang hampir sama dimana pada subset training, class Fault (1) sekitar 64,21 persen sedangkan pada subset testing sekitar 63,7 persen. Pada data training, class Fault (1) sekitar 64,2 persen. Hal ini tentunya akan berpengaruh pada hasil training dan testing. Distribusi subset yang bermiripan dengan data mentah akan membantu model mempelajari pola seakan-akan dari data mentah sehingga tingkat akurasi prediksi bisa jadi lebih tinggi. "
      ]
    },
    {
      "cell_type": "code",
      "metadata": {
        "id": "A4u7fagh-oWx"
      },
      "source": [
        "scaled_train_S,scaled_test_S,scaler_S = normalize(X_Train_S,X_Test_S)"
      ],
      "execution_count": 22,
      "outputs": []
    },
    {
      "cell_type": "code",
      "metadata": {
        "colab": {
          "base_uri": "https://localhost:8080/"
        },
        "id": "EY8kdfBr-xIn",
        "outputId": "4c5c3905-c19b-42bc-a534-41490973af54"
      },
      "source": [
        "model_learning_S = {\n",
        "    'RandomForest':RandomForestClassifier(),\n",
        "    'DecisionTree':DecisionTreeClassifier(),\n",
        "    'GradientBoosting':GradientBoostingClassifier(),\n",
        "    'LogisticRegression':LogisticRegression(),\n",
        "    'AdaBoost':AdaBoostClassifier(),\n",
        "    'SGD':SGDClassifier(),\n",
        "    'Bagging':BaggingClassifier()\n",
        "}\n",
        "early_cross_S = cross_validate_model(scaled_train_S,y_Train_S,folds=5,model_dict=model_learning_S)\n",
        "early_result_S = model_fitting(scaled_train_S,y_Train_S,model_learning_S)\n",
        "early_test_S = model_testing(scaled_test_S,y_Test_S,model_learning_S)\n",
        "early_dev_S = {name: float(\"{:.2f}\".format(early_result_S[name]-early_test_S[name])) for name in early_result_S}\n",
        "print(f'Learning Result :  \\n', early_result_S)\n",
        "print('\\n')\n",
        "print(f'Cross_VAL Result :  \\n',early_cross_S)\n",
        "print('\\n')\n",
        "print(f'Testing Result :  \\n',early_test_S)\n",
        "print('\\n')\n",
        "print(f'Deviation of Training and Testing : \\n',early_dev_S)"
      ],
      "execution_count": 23,
      "outputs": [
        {
          "output_type": "stream",
          "text": [
            "Learning Result :  \n",
            " {'RandomForest': 100.0, 'DecisionTree': 100.0, 'GradientBoosting': 100.0, 'LogisticRegression': 99.97, 'AdaBoost': 100.0, 'SGD': 99.97, 'Bagging': 100.0}\n",
            "\n",
            "\n",
            "Cross_VAL Result :  \n",
            " {'RandomForest': 99.97, 'DecisionTree': 99.92, 'GradientBoosting': 99.94, 'LogisticRegression': 99.97, 'AdaBoost': 99.94, 'SGD': 99.97, 'Bagging': 99.92}\n",
            "\n",
            "\n",
            "Testing Result :  \n",
            " {'RandomForest': 100.0, 'DecisionTree': 100.0, 'GradientBoosting': 100.0, 'LogisticRegression': 99.95, 'AdaBoost': 100.0, 'SGD': 100.0, 'Bagging': 100.0}\n",
            "\n",
            "\n",
            "Deviation of Training and Testing : \n",
            " {'RandomForest': 0.0, 'DecisionTree': 0.0, 'GradientBoosting': 0.0, 'LogisticRegression': 0.02, 'AdaBoost': 0.0, 'SGD': -0.03, 'Bagging': 0.0}\n"
          ],
          "name": "stdout"
        }
      ]
    },
    {
      "cell_type": "code",
      "metadata": {
        "id": "2eLQwJ5agr46",
        "colab": {
          "base_uri": "https://localhost:8080/"
        },
        "outputId": "d124af85-62d6-419b-df1e-8e23bb272695"
      },
      "source": [
        "print('RANDOMIZED MODEL SCORES ON PREDICTION SET (UNSEEN DATA)')\n",
        "scaled_predict_S = scale_transform(X_predict,scaler_S)\n",
        "prediction_score = model_testing(scaled_predict_S,y_predict,model_learning_S)\n",
        "prediction_score"
      ],
      "execution_count": 24,
      "outputs": [
        {
          "output_type": "stream",
          "text": [
            "RANDOMIZED MODEL SCORES ON PREDICTION SET (UNSEEN DATA)\n"
          ],
          "name": "stdout"
        },
        {
          "output_type": "execute_result",
          "data": {
            "text/plain": [
              "{'AdaBoost': 99.96,\n",
              " 'Bagging': 99.89,\n",
              " 'DecisionTree': 99.89,\n",
              " 'GradientBoosting': 99.93,\n",
              " 'LogisticRegression': 99.96,\n",
              " 'RandomForest': 99.89,\n",
              " 'SGD': 99.96}"
            ]
          },
          "metadata": {
            "tags": []
          },
          "execution_count": 24
        }
      ]
    },
    {
      "cell_type": "markdown",
      "metadata": {
        "id": "O_QxmWTtf8GA"
      },
      "source": [
        "Jika dibandingkan dengan random-shuffle split, hasil training stratified split cenderung lebih tinggi. Hal ini secara tidak langsung membuktikan bahwa distribusi subset data berpengaruh terhadap hasil training, testing, dan prediksi."
      ]
    },
    {
      "cell_type": "code",
      "metadata": {
        "id": "Yt9IRp7hOqW6"
      },
      "source": [
        "save_model(model_learning,'NS_')\n",
        "save_model(model_learning_S)\n",
        "save_scaler(scaler,'RS')\n",
        "save_scaler(scaler_S,'NS')"
      ],
      "execution_count": 25,
      "outputs": []
    }
  ]
}