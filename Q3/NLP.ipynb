{
  "nbformat": 4,
  "nbformat_minor": 0,
  "metadata": {
    "colab": {
      "name": "NLP.ipynb",
      "provenance": [],
      "collapsed_sections": []
    },
    "kernelspec": {
      "name": "python3",
      "display_name": "Python 3"
    },
    "language_info": {
      "name": "python"
    },
    "accelerator": "GPU"
  },
  "cells": [
    {
      "cell_type": "code",
      "metadata": {
        "id": "SMKCwMT2ayLI",
        "colab": {
          "base_uri": "https://localhost:8080/"
        },
        "outputId": "32b71673-ff3d-42ce-c0c8-eb5c024fb538"
      },
      "source": [
        "!pip install pandas\n",
        "!pip install tensorflow"
      ],
      "execution_count": 1,
      "outputs": [
        {
          "output_type": "stream",
          "text": [
            "Requirement already satisfied: pandas in /usr/local/lib/python3.7/dist-packages (1.1.5)\n",
            "Requirement already satisfied: pytz>=2017.2 in /usr/local/lib/python3.7/dist-packages (from pandas) (2018.9)\n",
            "Requirement already satisfied: python-dateutil>=2.7.3 in /usr/local/lib/python3.7/dist-packages (from pandas) (2.8.1)\n",
            "Requirement already satisfied: numpy>=1.15.4 in /usr/local/lib/python3.7/dist-packages (from pandas) (1.19.5)\n",
            "Requirement already satisfied: six>=1.5 in /usr/local/lib/python3.7/dist-packages (from python-dateutil>=2.7.3->pandas) (1.15.0)\n",
            "Requirement already satisfied: tensorflow in /usr/local/lib/python3.7/dist-packages (2.4.1)\n",
            "Requirement already satisfied: google-pasta~=0.2 in /usr/local/lib/python3.7/dist-packages (from tensorflow) (0.2.0)\n",
            "Requirement already satisfied: tensorflow-estimator<2.5.0,>=2.4.0 in /usr/local/lib/python3.7/dist-packages (from tensorflow) (2.4.0)\n",
            "Requirement already satisfied: termcolor~=1.1.0 in /usr/local/lib/python3.7/dist-packages (from tensorflow) (1.1.0)\n",
            "Requirement already satisfied: grpcio~=1.32.0 in /usr/local/lib/python3.7/dist-packages (from tensorflow) (1.32.0)\n",
            "Requirement already satisfied: keras-preprocessing~=1.1.2 in /usr/local/lib/python3.7/dist-packages (from tensorflow) (1.1.2)\n",
            "Requirement already satisfied: absl-py~=0.10 in /usr/local/lib/python3.7/dist-packages (from tensorflow) (0.12.0)\n",
            "Requirement already satisfied: gast==0.3.3 in /usr/local/lib/python3.7/dist-packages (from tensorflow) (0.3.3)\n",
            "Requirement already satisfied: h5py~=2.10.0 in /usr/local/lib/python3.7/dist-packages (from tensorflow) (2.10.0)\n",
            "Requirement already satisfied: typing-extensions~=3.7.4 in /usr/local/lib/python3.7/dist-packages (from tensorflow) (3.7.4.3)\n",
            "Requirement already satisfied: six~=1.15.0 in /usr/local/lib/python3.7/dist-packages (from tensorflow) (1.15.0)\n",
            "Requirement already satisfied: wrapt~=1.12.1 in /usr/local/lib/python3.7/dist-packages (from tensorflow) (1.12.1)\n",
            "Requirement already satisfied: tensorboard~=2.4 in /usr/local/lib/python3.7/dist-packages (from tensorflow) (2.4.1)\n",
            "Requirement already satisfied: opt-einsum~=3.3.0 in /usr/local/lib/python3.7/dist-packages (from tensorflow) (3.3.0)\n",
            "Requirement already satisfied: protobuf>=3.9.2 in /usr/local/lib/python3.7/dist-packages (from tensorflow) (3.12.4)\n",
            "Requirement already satisfied: wheel~=0.35 in /usr/local/lib/python3.7/dist-packages (from tensorflow) (0.36.2)\n",
            "Requirement already satisfied: flatbuffers~=1.12.0 in /usr/local/lib/python3.7/dist-packages (from tensorflow) (1.12)\n",
            "Requirement already satisfied: astunparse~=1.6.3 in /usr/local/lib/python3.7/dist-packages (from tensorflow) (1.6.3)\n",
            "Requirement already satisfied: numpy~=1.19.2 in /usr/local/lib/python3.7/dist-packages (from tensorflow) (1.19.5)\n",
            "Requirement already satisfied: markdown>=2.6.8 in /usr/local/lib/python3.7/dist-packages (from tensorboard~=2.4->tensorflow) (3.3.4)\n",
            "Requirement already satisfied: requests<3,>=2.21.0 in /usr/local/lib/python3.7/dist-packages (from tensorboard~=2.4->tensorflow) (2.23.0)\n",
            "Requirement already satisfied: werkzeug>=0.11.15 in /usr/local/lib/python3.7/dist-packages (from tensorboard~=2.4->tensorflow) (1.0.1)\n",
            "Requirement already satisfied: google-auth<2,>=1.6.3 in /usr/local/lib/python3.7/dist-packages (from tensorboard~=2.4->tensorflow) (1.28.0)\n",
            "Requirement already satisfied: tensorboard-plugin-wit>=1.6.0 in /usr/local/lib/python3.7/dist-packages (from tensorboard~=2.4->tensorflow) (1.8.0)\n",
            "Requirement already satisfied: setuptools>=41.0.0 in /usr/local/lib/python3.7/dist-packages (from tensorboard~=2.4->tensorflow) (54.2.0)\n",
            "Requirement already satisfied: google-auth-oauthlib<0.5,>=0.4.1 in /usr/local/lib/python3.7/dist-packages (from tensorboard~=2.4->tensorflow) (0.4.3)\n",
            "Requirement already satisfied: importlib-metadata; python_version < \"3.8\" in /usr/local/lib/python3.7/dist-packages (from markdown>=2.6.8->tensorboard~=2.4->tensorflow) (3.8.1)\n",
            "Requirement already satisfied: idna<3,>=2.5 in /usr/local/lib/python3.7/dist-packages (from requests<3,>=2.21.0->tensorboard~=2.4->tensorflow) (2.10)\n",
            "Requirement already satisfied: urllib3!=1.25.0,!=1.25.1,<1.26,>=1.21.1 in /usr/local/lib/python3.7/dist-packages (from requests<3,>=2.21.0->tensorboard~=2.4->tensorflow) (1.24.3)\n",
            "Requirement already satisfied: chardet<4,>=3.0.2 in /usr/local/lib/python3.7/dist-packages (from requests<3,>=2.21.0->tensorboard~=2.4->tensorflow) (3.0.4)\n",
            "Requirement already satisfied: certifi>=2017.4.17 in /usr/local/lib/python3.7/dist-packages (from requests<3,>=2.21.0->tensorboard~=2.4->tensorflow) (2020.12.5)\n",
            "Requirement already satisfied: pyasn1-modules>=0.2.1 in /usr/local/lib/python3.7/dist-packages (from google-auth<2,>=1.6.3->tensorboard~=2.4->tensorflow) (0.2.8)\n",
            "Requirement already satisfied: rsa<5,>=3.1.4; python_version >= \"3.6\" in /usr/local/lib/python3.7/dist-packages (from google-auth<2,>=1.6.3->tensorboard~=2.4->tensorflow) (4.7.2)\n",
            "Requirement already satisfied: cachetools<5.0,>=2.0.0 in /usr/local/lib/python3.7/dist-packages (from google-auth<2,>=1.6.3->tensorboard~=2.4->tensorflow) (4.2.1)\n",
            "Requirement already satisfied: requests-oauthlib>=0.7.0 in /usr/local/lib/python3.7/dist-packages (from google-auth-oauthlib<0.5,>=0.4.1->tensorboard~=2.4->tensorflow) (1.3.0)\n",
            "Requirement already satisfied: zipp>=0.5 in /usr/local/lib/python3.7/dist-packages (from importlib-metadata; python_version < \"3.8\"->markdown>=2.6.8->tensorboard~=2.4->tensorflow) (3.4.1)\n",
            "Requirement already satisfied: pyasn1<0.5.0,>=0.4.6 in /usr/local/lib/python3.7/dist-packages (from pyasn1-modules>=0.2.1->google-auth<2,>=1.6.3->tensorboard~=2.4->tensorflow) (0.4.8)\n",
            "Requirement already satisfied: oauthlib>=3.0.0 in /usr/local/lib/python3.7/dist-packages (from requests-oauthlib>=0.7.0->google-auth-oauthlib<0.5,>=0.4.1->tensorboard~=2.4->tensorflow) (3.1.0)\n"
          ],
          "name": "stdout"
        }
      ]
    },
    {
      "cell_type": "code",
      "metadata": {
        "id": "bPRSXKTMb60w"
      },
      "source": [
        "import os\n",
        "import pandas as pd\n",
        "import re\n",
        "import tensorflow as tf"
      ],
      "execution_count": 2,
      "outputs": []
    },
    {
      "cell_type": "code",
      "metadata": {
        "id": "z8xymxlWb63g"
      },
      "source": [
        "data_dir = 'drive/MyDrive/Data'\n",
        "document = os.listdir(data_dir)"
      ],
      "execution_count": 3,
      "outputs": []
    },
    {
      "cell_type": "markdown",
      "metadata": {
        "id": "zQR34RahKOvy"
      },
      "source": [
        "Me-list semua text file yang ada dalam folder terkait untuk proses loading ke dalam variabel"
      ]
    },
    {
      "cell_type": "code",
      "metadata": {
        "id": "x0_4sgUXb66T",
        "colab": {
          "base_uri": "https://localhost:8080/"
        },
        "outputId": "84f80b86-ea41-4db2-cefb-1820ccb97b07"
      },
      "source": [
        "data_text = {'category':[],'line':[]}\n",
        "line_loaded = 0\n",
        "for i in document:\n",
        "    print(f\"PROCESSING {i}.....\")\n",
        "    document_data = open(os.path.join(data_dir,i), \"r\")\n",
        "    data_list = []\n",
        "    for line in document_data:\n",
        "        if \"#\" in line:\n",
        "            continue\n",
        "        data_list.append(line)\n",
        "        line_loaded += 1\n",
        "    document_data.close()\n",
        "    for line in data_list:\n",
        "        data_text['category'].append(line[:4])\n",
        "        data_text['line'].append(line[4:])\n",
        "    print(f'{i} HAS BEEN LOADED\\n')\n",
        "print(f'\\n{line_loaded} TEXT LINE HAS BEEN LOADED SUCCESSFULLY')\n",
        "data_text_frame = pd.DataFrame.from_dict(data_text)"
      ],
      "execution_count": 183,
      "outputs": [
        {
          "output_type": "stream",
          "text": [
            "PROCESSING arxiv_annotate3_80_1.txt.....\n",
            "arxiv_annotate3_80_1.txt HAS BEEN LOADED\n",
            "\n",
            "PROCESSING arxiv_annotate5_240_3.txt.....\n",
            "arxiv_annotate5_240_3.txt HAS BEEN LOADED\n",
            "\n",
            "PROCESSING arxiv_annotate3_80_3.txt.....\n",
            "arxiv_annotate3_80_3.txt HAS BEEN LOADED\n",
            "\n",
            "PROCESSING arxiv_annotate2_66_3.txt.....\n",
            "arxiv_annotate2_66_3.txt HAS BEEN LOADED\n",
            "\n",
            "PROCESSING arxiv_annotate1_13_1.txt.....\n",
            "arxiv_annotate1_13_1.txt HAS BEEN LOADED\n",
            "\n",
            "PROCESSING arxiv_annotate3_80_2.txt.....\n",
            "arxiv_annotate3_80_2.txt HAS BEEN LOADED\n",
            "\n",
            "PROCESSING arxiv_annotate10_7_2.txt.....\n",
            "arxiv_annotate10_7_2.txt HAS BEEN LOADED\n",
            "\n",
            "PROCESSING arxiv_annotate2_66_1.txt.....\n",
            "arxiv_annotate2_66_1.txt HAS BEEN LOADED\n",
            "\n",
            "PROCESSING arxiv_annotate4_168_3.txt.....\n",
            "arxiv_annotate4_168_3.txt HAS BEEN LOADED\n",
            "\n",
            "PROCESSING arxiv_annotate5_240_1.txt.....\n",
            "arxiv_annotate5_240_1.txt HAS BEEN LOADED\n",
            "\n",
            "PROCESSING arxiv_annotate1_13_3.txt.....\n",
            "arxiv_annotate1_13_3.txt HAS BEEN LOADED\n",
            "\n",
            "PROCESSING arxiv_annotate1_13_2.txt.....\n",
            "arxiv_annotate1_13_2.txt HAS BEEN LOADED\n",
            "\n",
            "PROCESSING arxiv_annotate5_240_2.txt.....\n",
            "arxiv_annotate5_240_2.txt HAS BEEN LOADED\n",
            "\n",
            "PROCESSING arxiv_annotate4_168_2.txt.....\n",
            "arxiv_annotate4_168_2.txt HAS BEEN LOADED\n",
            "\n",
            "PROCESSING arxiv_annotate10_7_3.txt.....\n",
            "arxiv_annotate10_7_3.txt HAS BEEN LOADED\n",
            "\n",
            "PROCESSING arxiv_annotate4_168_1.txt.....\n",
            "arxiv_annotate4_168_1.txt HAS BEEN LOADED\n",
            "\n",
            "PROCESSING arxiv_annotate2_66_2.txt.....\n",
            "arxiv_annotate2_66_2.txt HAS BEEN LOADED\n",
            "\n",
            "PROCESSING arxiv_annotate10_7_1.txt.....\n",
            "arxiv_annotate10_7_1.txt HAS BEEN LOADED\n",
            "\n",
            "PROCESSING arxiv_annotate8_81_2.txt.....\n",
            "arxiv_annotate8_81_2.txt HAS BEEN LOADED\n",
            "\n",
            "PROCESSING jdm_annotate1_103_1.txt.....\n",
            "jdm_annotate1_103_1.txt HAS BEEN LOADED\n",
            "\n",
            "PROCESSING arxiv_annotate9_279_2.txt.....\n",
            "arxiv_annotate9_279_2.txt HAS BEEN LOADED\n",
            "\n",
            "PROCESSING arxiv_annotate7_268_2.txt.....\n",
            "arxiv_annotate7_268_2.txt HAS BEEN LOADED\n",
            "\n",
            "PROCESSING arxiv_annotate7_268_1.txt.....\n",
            "arxiv_annotate7_268_1.txt HAS BEEN LOADED\n",
            "\n",
            "PROCESSING arxiv_annotate6_52_3.txt.....\n",
            "arxiv_annotate6_52_3.txt HAS BEEN LOADED\n",
            "\n",
            "PROCESSING arxiv_annotate7_268_3.txt.....\n",
            "arxiv_annotate7_268_3.txt HAS BEEN LOADED\n",
            "\n",
            "PROCESSING jdm_annotate1_103_3.txt.....\n",
            "jdm_annotate1_103_3.txt HAS BEEN LOADED\n",
            "\n",
            "PROCESSING arxiv_annotate8_81_1.txt.....\n",
            "arxiv_annotate8_81_1.txt HAS BEEN LOADED\n",
            "\n",
            "PROCESSING arxiv_annotate9_279_1.txt.....\n",
            "arxiv_annotate9_279_1.txt HAS BEEN LOADED\n",
            "\n",
            "PROCESSING jdm_annotate1_103_2.txt.....\n",
            "jdm_annotate1_103_2.txt HAS BEEN LOADED\n",
            "\n",
            "PROCESSING arxiv_annotate8_81_3.txt.....\n",
            "arxiv_annotate8_81_3.txt HAS BEEN LOADED\n",
            "\n",
            "PROCESSING jdm_annotate10_210_1.txt.....\n",
            "jdm_annotate10_210_1.txt HAS BEEN LOADED\n",
            "\n",
            "PROCESSING arxiv_annotate9_279_3.txt.....\n",
            "arxiv_annotate9_279_3.txt HAS BEEN LOADED\n",
            "\n",
            "PROCESSING arxiv_annotate6_52_1.txt.....\n",
            "arxiv_annotate6_52_1.txt HAS BEEN LOADED\n",
            "\n",
            "PROCESSING arxiv_annotate6_52_2.txt.....\n",
            "arxiv_annotate6_52_2.txt HAS BEEN LOADED\n",
            "\n",
            "PROCESSING jdm_annotate3_120_1.txt.....\n",
            "jdm_annotate3_120_1.txt HAS BEEN LOADED\n",
            "\n",
            "PROCESSING jdm_annotate2_107_1.txt.....\n",
            "jdm_annotate2_107_1.txt HAS BEEN LOADED\n",
            "\n",
            "PROCESSING jdm_annotate5_228_2.txt.....\n",
            "jdm_annotate5_228_2.txt HAS BEEN LOADED\n",
            "\n",
            "PROCESSING jdm_annotate3_120_2.txt.....\n",
            "jdm_annotate3_120_2.txt HAS BEEN LOADED\n",
            "\n",
            "PROCESSING jdm_annotate5_228_1.txt.....\n",
            "jdm_annotate5_228_1.txt HAS BEEN LOADED\n",
            "\n",
            "PROCESSING jdm_annotate10_210_2.txt.....\n",
            "jdm_annotate10_210_2.txt HAS BEEN LOADED\n",
            "\n",
            "PROCESSING jdm_annotate4_220_2.txt.....\n",
            "jdm_annotate4_220_2.txt HAS BEEN LOADED\n",
            "\n",
            "PROCESSING jdm_annotate3_120_3.txt.....\n",
            "jdm_annotate3_120_3.txt HAS BEEN LOADED\n",
            "\n",
            "PROCESSING jdm_annotate2_107_2.txt.....\n",
            "jdm_annotate2_107_2.txt HAS BEEN LOADED\n",
            "\n",
            "PROCESSING jdm_annotate5_228_3.txt.....\n",
            "jdm_annotate5_228_3.txt HAS BEEN LOADED\n",
            "\n",
            "PROCESSING jdm_annotate10_210_3.txt.....\n",
            "jdm_annotate10_210_3.txt HAS BEEN LOADED\n",
            "\n",
            "PROCESSING jdm_annotate2_107_3.txt.....\n",
            "jdm_annotate2_107_3.txt HAS BEEN LOADED\n",
            "\n",
            "PROCESSING jdm_annotate4_220_3.txt.....\n",
            "jdm_annotate4_220_3.txt HAS BEEN LOADED\n",
            "\n",
            "PROCESSING jdm_annotate4_220_1.txt.....\n",
            "jdm_annotate4_220_1.txt HAS BEEN LOADED\n",
            "\n",
            "PROCESSING jdm_annotate9_45_1.txt.....\n",
            "jdm_annotate9_45_1.txt HAS BEEN LOADED\n",
            "\n",
            "PROCESSING jdm_annotate6_32_1.txt.....\n",
            "jdm_annotate6_32_1.txt HAS BEEN LOADED\n",
            "\n",
            "PROCESSING jdm_annotate9_45_3.txt.....\n",
            "jdm_annotate9_45_3.txt HAS BEEN LOADED\n",
            "\n",
            "PROCESSING jdm_annotate7_265_1.txt.....\n",
            "jdm_annotate7_265_1.txt HAS BEEN LOADED\n",
            "\n",
            "PROCESSING jdm_annotate6_32_2.txt.....\n",
            "jdm_annotate6_32_2.txt HAS BEEN LOADED\n",
            "\n",
            "PROCESSING jdm_annotate8_177_3.txt.....\n",
            "jdm_annotate8_177_3.txt HAS BEEN LOADED\n",
            "\n",
            "PROCESSING jdm_annotate8_177_1.txt.....\n",
            "jdm_annotate8_177_1.txt HAS BEEN LOADED\n",
            "\n",
            "PROCESSING jdm_annotate9_45_2.txt.....\n",
            "jdm_annotate9_45_2.txt HAS BEEN LOADED\n",
            "\n",
            "PROCESSING jdm_annotate6_32_3.txt.....\n",
            "jdm_annotate6_32_3.txt HAS BEEN LOADED\n",
            "\n",
            "PROCESSING jdm_annotate8_177_2.txt.....\n",
            "jdm_annotate8_177_2.txt HAS BEEN LOADED\n",
            "\n",
            "PROCESSING jdm_annotate7_265_3.txt.....\n",
            "jdm_annotate7_265_3.txt HAS BEEN LOADED\n",
            "\n",
            "PROCESSING plos_annotate1_6_1.txt.....\n",
            "plos_annotate1_6_1.txt HAS BEEN LOADED\n",
            "\n",
            "PROCESSING jdm_annotate7_265_2.txt.....\n",
            "jdm_annotate7_265_2.txt HAS BEEN LOADED\n",
            "\n",
            "PROCESSING plos_annotate10_1140_3.txt.....\n",
            "plos_annotate10_1140_3.txt HAS BEEN LOADED\n",
            "\n",
            "PROCESSING plos_annotate5_1375_1.txt.....\n",
            "plos_annotate5_1375_1.txt HAS BEEN LOADED\n",
            "\n",
            "PROCESSING plos_annotate2_336_2.txt.....\n",
            "plos_annotate2_336_2.txt HAS BEEN LOADED\n",
            "\n",
            "PROCESSING plos_annotate5_1375_3.txt.....\n",
            "plos_annotate5_1375_3.txt HAS BEEN LOADED\n",
            "\n",
            "PROCESSING plos_annotate2_336_1.txt.....\n",
            "plos_annotate2_336_1.txt HAS BEEN LOADED\n",
            "\n",
            "PROCESSING plos_annotate5_1375_2.txt.....\n",
            "plos_annotate5_1375_2.txt HAS BEEN LOADED\n",
            "\n",
            "PROCESSING plos_annotate3_798_3.txt.....\n",
            "plos_annotate3_798_3.txt HAS BEEN LOADED\n",
            "\n",
            "PROCESSING plos_annotate1_6_2.txt.....\n",
            "plos_annotate1_6_2.txt HAS BEEN LOADED\n",
            "\n",
            "PROCESSING plos_annotate4_1052_3.txt.....\n",
            "plos_annotate4_1052_3.txt HAS BEEN LOADED\n",
            "\n",
            "PROCESSING plos_annotate4_1052_1.txt.....\n",
            "plos_annotate4_1052_1.txt HAS BEEN LOADED\n",
            "\n",
            "PROCESSING plos_annotate3_798_2.txt.....\n",
            "plos_annotate3_798_2.txt HAS BEEN LOADED\n",
            "\n",
            "PROCESSING plos_annotate6_1032_1.txt.....\n",
            "plos_annotate6_1032_1.txt HAS BEEN LOADED\n",
            "\n",
            "PROCESSING plos_annotate6_1032_2.txt.....\n",
            "plos_annotate6_1032_2.txt HAS BEEN LOADED\n",
            "\n",
            "PROCESSING plos_annotate1_6_3.txt.....\n",
            "plos_annotate1_6_3.txt HAS BEEN LOADED\n",
            "\n",
            "PROCESSING plos_annotate3_798_1.txt.....\n",
            "plos_annotate3_798_1.txt HAS BEEN LOADED\n",
            "\n",
            "PROCESSING plos_annotate4_1052_2.txt.....\n",
            "plos_annotate4_1052_2.txt HAS BEEN LOADED\n",
            "\n",
            "PROCESSING plos_annotate10_1140_1.txt.....\n",
            "plos_annotate10_1140_1.txt HAS BEEN LOADED\n",
            "\n",
            "PROCESSING plos_annotate6_1032_3.txt.....\n",
            "plos_annotate6_1032_3.txt HAS BEEN LOADED\n",
            "\n",
            "PROCESSING plos_annotate10_1140_2.txt.....\n",
            "plos_annotate10_1140_2.txt HAS BEEN LOADED\n",
            "\n",
            "PROCESSING plos_annotate2_336_3.txt.....\n",
            "plos_annotate2_336_3.txt HAS BEEN LOADED\n",
            "\n",
            "PROCESSING plos_annotate9_1187_2.txt.....\n",
            "plos_annotate9_1187_2.txt HAS BEEN LOADED\n",
            "\n",
            "PROCESSING plos_annotate7_1233_1.txt.....\n",
            "plos_annotate7_1233_1.txt HAS BEEN LOADED\n",
            "\n",
            "PROCESSING plos_annotate8_123_1.txt.....\n",
            "plos_annotate8_123_1.txt HAS BEEN LOADED\n",
            "\n",
            "PROCESSING plos_annotate8_123_3.txt.....\n",
            "plos_annotate8_123_3.txt HAS BEEN LOADED\n",
            "\n",
            "PROCESSING plos_annotate9_1187_1.txt.....\n",
            "plos_annotate9_1187_1.txt HAS BEEN LOADED\n",
            "\n",
            "PROCESSING plos_annotate7_1233_2.txt.....\n",
            "plos_annotate7_1233_2.txt HAS BEEN LOADED\n",
            "\n",
            "PROCESSING plos_annotate9_1187_3.txt.....\n",
            "plos_annotate9_1187_3.txt HAS BEEN LOADED\n",
            "\n",
            "PROCESSING plos_annotate7_1233_3.txt.....\n",
            "plos_annotate7_1233_3.txt HAS BEEN LOADED\n",
            "\n",
            "PROCESSING plos_annotate8_123_2.txt.....\n",
            "plos_annotate8_123_2.txt HAS BEEN LOADED\n",
            "\n",
            "\n",
            "3114 TEXT LINE HAS BEEN LOADED SUCCESSFULLY\n"
          ],
          "name": "stdout"
        }
      ]
    },
    {
      "cell_type": "markdown",
      "metadata": {
        "id": "iVfVfDJpLnEx"
      },
      "source": [
        "Proses loading semua texfile dengan pemisahan antara bagian kategori (category) dan deskripsi (line) kedalam dataframe."
      ]
    },
    {
      "cell_type": "code",
      "metadata": {
        "colab": {
          "base_uri": "https://localhost:8080/",
          "height": 204
        },
        "id": "S9FJGgD3h46D",
        "outputId": "cb578b3d-0b10-43b2-ce09-1ad5d56b61a3"
      },
      "source": [
        "data_text_frame['line'] = data_text_frame['line'].apply(lambda x:\" \".join(x.rstrip('\\t\\n').split()))\n",
        "data_text_frame['category'] = data_text_frame['category'].apply(lambda x:\" \".join(x.rstrip('\\t\\n').split()))\n",
        "data_text_frame.head()"
      ],
      "execution_count": 181,
      "outputs": [
        {
          "output_type": "execute_result",
          "data": {
            "text/html": [
              "<div>\n",
              "<style scoped>\n",
              "    .dataframe tbody tr th:only-of-type {\n",
              "        vertical-align: middle;\n",
              "    }\n",
              "\n",
              "    .dataframe tbody tr th {\n",
              "        vertical-align: top;\n",
              "    }\n",
              "\n",
              "    .dataframe thead th {\n",
              "        text-align: right;\n",
              "    }\n",
              "</style>\n",
              "<table border=\"1\" class=\"dataframe\">\n",
              "  <thead>\n",
              "    <tr style=\"text-align: right;\">\n",
              "      <th></th>\n",
              "      <th>category</th>\n",
              "      <th>line</th>\n",
              "    </tr>\n",
              "  </thead>\n",
              "  <tbody>\n",
              "    <tr>\n",
              "      <th>0</th>\n",
              "      <td>MISC</td>\n",
              "      <td>defensive forecasting is a method of transform...</td>\n",
              "    </tr>\n",
              "    <tr>\n",
              "      <th>1</th>\n",
              "      <td>MISC</td>\n",
              "      <td>there are two known varieties of defensive for...</td>\n",
              "    </tr>\n",
              "    <tr>\n",
              "      <th>2</th>\n",
              "      <td>AIMX</td>\n",
              "      <td>this note shows that the randomized variety ca...</td>\n",
              "    </tr>\n",
              "    <tr>\n",
              "      <th>3</th>\n",
              "      <td>CONT</td>\n",
              "      <td>textbf new as compared to version NUMBER NUMBE...</td>\n",
              "    </tr>\n",
              "    <tr>\n",
              "      <th>4</th>\n",
              "      <td>CONT</td>\n",
              "      <td>in the case where is finite it is shown that f...</td>\n",
              "    </tr>\n",
              "  </tbody>\n",
              "</table>\n",
              "</div>"
            ],
            "text/plain": [
              "  category                                               line\n",
              "0     MISC  defensive forecasting is a method of transform...\n",
              "1     MISC  there are two known varieties of defensive for...\n",
              "2     AIMX  this note shows that the randomized variety ca...\n",
              "3     CONT  textbf new as compared to version NUMBER NUMBE...\n",
              "4     CONT  in the case where is finite it is shown that f..."
            ]
          },
          "metadata": {
            "tags": []
          },
          "execution_count": 181
        }
      ]
    },
    {
      "cell_type": "markdown",
      "metadata": {
        "id": "nfbbk84NMYpx"
      },
      "source": [
        ""
      ]
    },
    {
      "cell_type": "markdown",
      "metadata": {
        "id": "l1zlrCHaMYsf"
      },
      "source": [
        "Cek dan modifikasi dataframe dengan beberapa fungsi separasi escape character untuk memastikan textfile telah termuat sesuai yang diharapkan"
      ]
    },
    {
      "cell_type": "code",
      "metadata": {
        "colab": {
          "base_uri": "https://localhost:8080/"
        },
        "id": "LHoYQmcwuzuB",
        "outputId": "793ff4a9-fa83-4e82-8457-8fe1b592abbe"
      },
      "source": [
        "data_text_frame.info()"
      ],
      "execution_count": 6,
      "outputs": [
        {
          "output_type": "stream",
          "text": [
            "<class 'pandas.core.frame.DataFrame'>\n",
            "RangeIndex: 3114 entries, 0 to 3113\n",
            "Data columns (total 2 columns):\n",
            " #   Column    Non-Null Count  Dtype \n",
            "---  ------    --------------  ----- \n",
            " 0   category  3114 non-null   object\n",
            " 1   line      3114 non-null   object\n",
            "dtypes: object(2)\n",
            "memory usage: 48.8+ KB\n"
          ],
          "name": "stdout"
        }
      ]
    },
    {
      "cell_type": "markdown",
      "metadata": {
        "id": "ETpAco2oMt71"
      },
      "source": [
        "Cek jumlah data apakah ada kejanggalan seperti null value"
      ]
    },
    {
      "cell_type": "code",
      "metadata": {
        "colab": {
          "base_uri": "https://localhost:8080/"
        },
        "id": "pCofNWrEvcI5",
        "outputId": "2208079d-4b08-4869-aba7-9c86b7029af2"
      },
      "source": [
        "data_text_frame['category'].value_counts()"
      ],
      "execution_count": 7,
      "outputs": [
        {
          "output_type": "execute_result",
          "data": {
            "text/plain": [
              "MISC    1822\n",
              "OWNX     867\n",
              "AIMX     194\n",
              "CONT     170\n",
              "BASE      61\n",
              "Name: category, dtype: int64"
            ]
          },
          "metadata": {
            "tags": []
          },
          "execution_count": 7
        }
      ]
    },
    {
      "cell_type": "markdown",
      "metadata": {
        "id": "uvxiOJ8aNRxy"
      },
      "source": [
        "Cek jumlah kategori dalam data teks. Terlihat ada ketimpangan jumlah yang tentunya memengaruhi proses learning model (bisa jadi model cenderung mengenali kategori terbanyak daripada yang lain)"
      ]
    },
    {
      "cell_type": "code",
      "metadata": {
        "id": "dsC5EFh08XOO"
      },
      "source": [
        "from typing import List\n",
        "def split_data(data:object,test_size:float=0.2)->object:\n",
        "    len_data = len(data)\n",
        "    test_portion = int(test_size*len_data)\n",
        "    test_ind = len_data - test_portion\n",
        "    train_data = data.iloc[:test_ind]\n",
        "    test_data = data.iloc[test_ind:]\n",
        "    return train_data, test_data\n",
        "training_data,prediction_data = split_data(data_text_frame,0.1)"
      ],
      "execution_count": 17,
      "outputs": []
    },
    {
      "cell_type": "markdown",
      "metadata": {
        "id": "B89S4iPGN7_2"
      },
      "source": [
        "Memisahkan antara data training dan prediction. Data training akan dibagi lagi menjadi train_data dan test_data untuk proses learning/fitting. Pembagian ini tidak dilakukan shuffle dikarenakan data teks diinterpretasikan seabgai kesatuan yang memiliki arti semantik dari satu line ke yang lain."
      ]
    },
    {
      "cell_type": "code",
      "metadata": {
        "colab": {
          "base_uri": "https://localhost:8080/"
        },
        "id": "HKl5J2-UXOQl",
        "outputId": "d464714b-2667-4911-a87d-716199a9bac7"
      },
      "source": [
        "len(data_text_frame),len(training_data),len(prediction_data)"
      ],
      "execution_count": 24,
      "outputs": [
        {
          "output_type": "execute_result",
          "data": {
            "text/plain": [
              "(3114, 2803, 311)"
            ]
          },
          "metadata": {
            "tags": []
          },
          "execution_count": 24
        }
      ]
    },
    {
      "cell_type": "markdown",
      "metadata": {
        "id": "oB-fk4evOXxs"
      },
      "source": [
        "Melihat data mentah, subset training, dan subset prediksi."
      ]
    },
    {
      "cell_type": "code",
      "metadata": {
        "colab": {
          "base_uri": "https://localhost:8080/",
          "height": 204
        },
        "id": "2bbbaMi1cRnT",
        "outputId": "ee87a8c5-c2be-4455-ef76-523032fff9aa"
      },
      "source": [
        "train_data,test_data = split_data(training_data,0.1)\n",
        "train_data.head()"
      ],
      "execution_count": 105,
      "outputs": [
        {
          "output_type": "execute_result",
          "data": {
            "text/html": [
              "<div>\n",
              "<style scoped>\n",
              "    .dataframe tbody tr th:only-of-type {\n",
              "        vertical-align: middle;\n",
              "    }\n",
              "\n",
              "    .dataframe tbody tr th {\n",
              "        vertical-align: top;\n",
              "    }\n",
              "\n",
              "    .dataframe thead th {\n",
              "        text-align: right;\n",
              "    }\n",
              "</style>\n",
              "<table border=\"1\" class=\"dataframe\">\n",
              "  <thead>\n",
              "    <tr style=\"text-align: right;\">\n",
              "      <th></th>\n",
              "      <th>category</th>\n",
              "      <th>line</th>\n",
              "    </tr>\n",
              "  </thead>\n",
              "  <tbody>\n",
              "    <tr>\n",
              "      <th>0</th>\n",
              "      <td>MISC</td>\n",
              "      <td>defensive forecasting is a method of transform...</td>\n",
              "    </tr>\n",
              "    <tr>\n",
              "      <th>1</th>\n",
              "      <td>MISC</td>\n",
              "      <td>there are two known varieties of defensive for...</td>\n",
              "    </tr>\n",
              "    <tr>\n",
              "      <th>2</th>\n",
              "      <td>AIMX</td>\n",
              "      <td>this note shows that the randomized variety ca...</td>\n",
              "    </tr>\n",
              "    <tr>\n",
              "      <th>3</th>\n",
              "      <td>CONT</td>\n",
              "      <td>textbf new as compared to version NUMBER NUMBE...</td>\n",
              "    </tr>\n",
              "    <tr>\n",
              "      <th>4</th>\n",
              "      <td>CONT</td>\n",
              "      <td>in the case where is finite it is shown that f...</td>\n",
              "    </tr>\n",
              "  </tbody>\n",
              "</table>\n",
              "</div>"
            ],
            "text/plain": [
              "  category                                               line\n",
              "0     MISC  defensive forecasting is a method of transform...\n",
              "1     MISC  there are two known varieties of defensive for...\n",
              "2     AIMX  this note shows that the randomized variety ca...\n",
              "3     CONT  textbf new as compared to version NUMBER NUMBE...\n",
              "4     CONT  in the case where is finite it is shown that f..."
            ]
          },
          "metadata": {
            "tags": []
          },
          "execution_count": 105
        }
      ]
    },
    {
      "cell_type": "markdown",
      "metadata": {
        "id": "gAYFBD_SOhld"
      },
      "source": [
        "Pembagian subset training menjadi sub-subset training (train_data) dan sub-subset testing (test_data). Pembagian tidak dilakukan shuffling dengan alasan yang sama dan penentuan porsi yang kecil (0.1) dilihat dari proses learning yang mana test_data akan dijadikan validasi data. Model akan berupaya memperbaiki kualitas akurasi dengan mempertimbangkan hasil validasi juga."
      ]
    },
    {
      "cell_type": "code",
      "metadata": {
        "id": "vBxSwRuf7IbF"
      },
      "source": [
        "from tensorflow.keras.preprocessing.text import Tokenizer\n",
        "from tensorflow.keras.preprocessing.sequence import pad_sequences\n",
        "import numpy as np\n",
        "\n",
        "vocab_size = 10000\n",
        "embedding_dim = 16\n",
        "max_length = 200\n",
        "trunc_type='post'\n",
        "padding_type = 'post'\n",
        "oov_tok = \"<OOV>\"\n",
        "\n",
        "training_sentences = train_data['line'].values\n",
        "testing_sentences = test_data['line'].values\n",
        "training_labels = train_data['category'].values\n",
        "testing_labels = test_data['category'].values\n",
        "all_labels = data_text_frame['category'].values\n",
        "\n",
        "tokenizer = Tokenizer(num_words = vocab_size, oov_token=oov_tok)\n",
        "tokenizer.fit_on_texts(data_encoded['line'].values)\n",
        "word_index = tokenizer.word_index\n",
        "training_sequences = tokenizer.texts_to_sequences(training_sentences)\n",
        "training_padded = pad_sequences(training_sequences,maxlen=max_length, padding=padding_type, truncating=trunc_type)\n",
        "\n",
        "testing_sequences = tokenizer.texts_to_sequences(testing_sentences)\n",
        "testing_padded = pad_sequences(testing_sequences,maxlen=max_length, padding=padding_type, truncating=trunc_type)\n",
        "\n",
        "label_tokenizer = Tokenizer()\n",
        "label_tokenizer.fit_on_texts(all_labels)\n",
        "training_label_seq = np.asarray(label_tokenizer.texts_to_sequences(training_labels))\n",
        "testing_label_seq = np.asarray(label_tokenizer.texts_to_sequences(testing_labels))"
      ],
      "execution_count": 127,
      "outputs": []
    },
    {
      "cell_type": "markdown",
      "metadata": {
        "id": "urwvNviYRe_U"
      },
      "source": [
        "# Pre-processing textdata\n",
        "\n",
        "## Parameter Definition\n",
        "Menetapkan parameter vocab_size (kumpulan representasi numerik dari setiap kata dalam teksdata dengan jumlah tertentu), embedding_dim (dimensional mapping untuk setiap representasi numerik dari kata dalam teks data), max_length (panjang kata yang diizinkan untuk dimuat dalam text encoding-merubah kata ket dalam numerik melalui tokenizer, trunc_type (opsi arah pemotongan text data sehingga memenuhi max length), padding_type (opsi arah penambahan leading-zero agar encoding text memenuhi max length), oov_tok (representasi numerik untuk kata yang tidak sempat direpresentasikan karena telah memenuhi vocab_size).\n",
        "\n",
        "## Tokenizing \n",
        "Mengubah text data ke dalam representasi numerik sesuai dengan vocabulary yang telah terbuat selama fase fitting. Beberapa modifikasi seperti padding dilakukan untuk memenuhi max_length untuk setiap data text. Konversi token untuk label dilakukan dengan mengubahnya menjadi array menyesuaikan konfigurasi tensorflow sequential model."
      ]
    },
    {
      "cell_type": "code",
      "metadata": {
        "colab": {
          "base_uri": "https://localhost:8080/"
        },
        "id": "8F57bHuQ5_-W",
        "outputId": "236470ac-d19f-4bf2-8ffe-33a9571896b4"
      },
      "source": [
        "training_label_seq"
      ],
      "execution_count": 133,
      "outputs": [
        {
          "output_type": "execute_result",
          "data": {
            "text/plain": [
              "array([[1],\n",
              "       [1],\n",
              "       [3],\n",
              "       ...,\n",
              "       [1],\n",
              "       [1],\n",
              "       [1]])"
            ]
          },
          "metadata": {
            "tags": []
          },
          "execution_count": 133
        }
      ]
    },
    {
      "cell_type": "code",
      "metadata": {
        "colab": {
          "base_uri": "https://localhost:8080/"
        },
        "id": "bdR6Yros2A5q",
        "outputId": "0971a801-8c35-4e05-dea1-a1888db9a31b"
      },
      "source": [
        "len(training_padded), len(training_sequences)"
      ],
      "execution_count": 108,
      "outputs": [
        {
          "output_type": "execute_result",
          "data": {
            "text/plain": [
              "(2523, 2523)"
            ]
          },
          "metadata": {
            "tags": []
          },
          "execution_count": 108
        }
      ]
    },
    {
      "cell_type": "code",
      "metadata": {
        "colab": {
          "base_uri": "https://localhost:8080/"
        },
        "id": "RqVfASfN4BUm",
        "outputId": "2e50ee0f-ba84-4190-97e8-c17eb6b256b6"
      },
      "source": [
        "len(testing_padded), len(testing_sequences)"
      ],
      "execution_count": 109,
      "outputs": [
        {
          "output_type": "execute_result",
          "data": {
            "text/plain": [
              "(280, 280)"
            ]
          },
          "metadata": {
            "tags": []
          },
          "execution_count": 109
        }
      ]
    },
    {
      "cell_type": "code",
      "metadata": {
        "colab": {
          "base_uri": "https://localhost:8080/"
        },
        "id": "Y5Es74izzG0y",
        "outputId": "ba3e9256-8924-4f71-9868-1178a31dd513"
      },
      "source": [
        "len(train_data),len(training_padded) "
      ],
      "execution_count": 110,
      "outputs": [
        {
          "output_type": "execute_result",
          "data": {
            "text/plain": [
              "(2523, 2523)"
            ]
          },
          "metadata": {
            "tags": []
          },
          "execution_count": 110
        }
      ]
    },
    {
      "cell_type": "code",
      "metadata": {
        "colab": {
          "base_uri": "https://localhost:8080/"
        },
        "id": "vIIqAL5qzL5Z",
        "outputId": "486a3d1b-4ce9-4129-8be1-bb6d02946e79"
      },
      "source": [
        "len(test_data),len(testing_padded)"
      ],
      "execution_count": 111,
      "outputs": [
        {
          "output_type": "execute_result",
          "data": {
            "text/plain": [
              "(280, 280)"
            ]
          },
          "metadata": {
            "tags": []
          },
          "execution_count": 111
        }
      ]
    },
    {
      "cell_type": "code",
      "metadata": {
        "colab": {
          "base_uri": "https://localhost:8080/"
        },
        "id": "idjUnC2O5NvU",
        "outputId": "fbe56b86-396a-4af8-8753-62c3325a306c"
      },
      "source": [
        "len(label_tokenizer.word_index)"
      ],
      "execution_count": 121,
      "outputs": [
        {
          "output_type": "execute_result",
          "data": {
            "text/plain": [
              "5"
            ]
          },
          "metadata": {
            "tags": []
          },
          "execution_count": 121
        }
      ]
    },
    {
      "cell_type": "code",
      "metadata": {
        "colab": {
          "base_uri": "https://localhost:8080/"
        },
        "id": "wSv2vZ5b-GLK",
        "outputId": "c5500dfa-409f-4642-856d-327be551a106"
      },
      "source": [
        "label_tokenizer.word_index"
      ],
      "execution_count": 134,
      "outputs": [
        {
          "output_type": "execute_result",
          "data": {
            "text/plain": [
              "{'aimx': 3, 'base': 5, 'cont': 4, 'misc': 1, 'ownx': 2}"
            ]
          },
          "metadata": {
            "tags": []
          },
          "execution_count": 134
        }
      ]
    },
    {
      "cell_type": "code",
      "metadata": {
        "colab": {
          "base_uri": "https://localhost:8080/"
        },
        "id": "qv8ungU9eSCI",
        "outputId": "dcb8b342-0945-483f-e129-5e634ade6fac"
      },
      "source": [
        "model = tf.keras.Sequential([\n",
        "    tf.keras.layers.Embedding(vocab_size, embedding_dim, input_length=max_length),\n",
        "    tf.keras.layers.Bidirectional(tf.keras.layers.LSTM(embedding_dim)),\n",
        "    tf.keras.layers.Dense(embedding_dim, activation='relu'),\n",
        "    tf.keras.layers.Dropout(0.3),\n",
        "    tf.keras.layers.Dense(len(label_tokenizer.word_index)+1, activation='softmax')\n",
        "])\n",
        "model.compile(loss='sparse_categorical_crossentropy',optimizer='adam',metrics=['accuracy'])\n",
        "model.summary()"
      ],
      "execution_count": 130,
      "outputs": [
        {
          "output_type": "stream",
          "text": [
            "Model: \"sequential_11\"\n",
            "_________________________________________________________________\n",
            "Layer (type)                 Output Shape              Param #   \n",
            "=================================================================\n",
            "embedding_11 (Embedding)     (None, 200, 16)           160000    \n",
            "_________________________________________________________________\n",
            "bidirectional_11 (Bidirectio (None, 32)                4224      \n",
            "_________________________________________________________________\n",
            "dense_22 (Dense)             (None, 16)                528       \n",
            "_________________________________________________________________\n",
            "dropout (Dropout)            (None, 16)                0         \n",
            "_________________________________________________________________\n",
            "dense_23 (Dense)             (None, 6)                 102       \n",
            "=================================================================\n",
            "Total params: 164,854\n",
            "Trainable params: 164,854\n",
            "Non-trainable params: 0\n",
            "_________________________________________________________________\n"
          ],
          "name": "stdout"
        }
      ]
    },
    {
      "cell_type": "markdown",
      "metadata": {
        "id": "F_u7UdDeUlLl"
      },
      "source": [
        "Membangun model sekuensial dengan melibatkan Embedding layers (membuat dimensional mapping sehingga proses klasifikasi lebih robust), Bidirectional LSTM ( mempertimbangkan data sebelum dan sesudahnya dalam hal ini kata dalam data text), Dense (melakukan proses matematis dengan parameter aktivasi dan jumlah neuron), Dropout (melakukan deaktivasi layer untuk mengurangi potensi overfitting). Kompilasi dilakukan dengan memakai sparse entropy melihat output model berupa distribusi probabilitas (multiclass) target value dengan optimizer adam (kecenderungan robust yang tinggi) dan metrics accuracy (acuan penilaian/learning)."
      ]
    },
    {
      "cell_type": "code",
      "metadata": {
        "colab": {
          "base_uri": "https://localhost:8080/"
        },
        "id": "8yLZvmflfGfk",
        "outputId": "a6c046f4-2217-4084-81bc-76f0e752447f"
      },
      "source": [
        "num_epochs = 50\n",
        "history = model.fit(training_padded, training_label_seq, epochs=num_epochs, validation_data=(testing_padded, testing_label_seq))"
      ],
      "execution_count": 131,
      "outputs": [
        {
          "output_type": "stream",
          "text": [
            "Epoch 1/50\n",
            "79/79 [==============================] - 10s 83ms/step - loss: 1.5684 - accuracy: 0.5028 - val_loss: 0.9854 - val_accuracy: 0.6714\n",
            "Epoch 2/50\n",
            "79/79 [==============================] - 6s 73ms/step - loss: 1.1411 - accuracy: 0.5731 - val_loss: 0.9096 - val_accuracy: 0.6714\n",
            "Epoch 3/50\n",
            "79/79 [==============================] - 6s 73ms/step - loss: 1.0094 - accuracy: 0.6117 - val_loss: 0.7053 - val_accuracy: 0.7786\n",
            "Epoch 4/50\n",
            "79/79 [==============================] - 6s 72ms/step - loss: 0.6852 - accuracy: 0.8053 - val_loss: 0.6822 - val_accuracy: 0.7357\n",
            "Epoch 5/50\n",
            "79/79 [==============================] - 6s 72ms/step - loss: 0.6087 - accuracy: 0.7954 - val_loss: 0.7075 - val_accuracy: 0.7179\n",
            "Epoch 6/50\n",
            "79/79 [==============================] - 6s 73ms/step - loss: 0.5377 - accuracy: 0.8176 - val_loss: 0.7387 - val_accuracy: 0.7107\n",
            "Epoch 7/50\n",
            "79/79 [==============================] - 6s 72ms/step - loss: 0.4818 - accuracy: 0.8234 - val_loss: 0.7566 - val_accuracy: 0.7143\n",
            "Epoch 8/50\n",
            "79/79 [==============================] - 6s 73ms/step - loss: 0.4332 - accuracy: 0.8227 - val_loss: 0.7037 - val_accuracy: 0.7214\n",
            "Epoch 9/50\n",
            "79/79 [==============================] - 6s 73ms/step - loss: 0.4270 - accuracy: 0.8286 - val_loss: 0.8060 - val_accuracy: 0.7214\n",
            "Epoch 10/50\n",
            "79/79 [==============================] - 6s 72ms/step - loss: 0.3633 - accuracy: 0.8566 - val_loss: 0.8192 - val_accuracy: 0.7500\n",
            "Epoch 11/50\n",
            "79/79 [==============================] - 6s 73ms/step - loss: 0.3559 - accuracy: 0.8686 - val_loss: 0.7724 - val_accuracy: 0.7500\n",
            "Epoch 12/50\n",
            "79/79 [==============================] - 6s 73ms/step - loss: 0.3276 - accuracy: 0.8680 - val_loss: 0.8875 - val_accuracy: 0.7536\n",
            "Epoch 13/50\n",
            "79/79 [==============================] - 6s 73ms/step - loss: 0.3235 - accuracy: 0.8710 - val_loss: 0.8196 - val_accuracy: 0.7571\n",
            "Epoch 14/50\n",
            "79/79 [==============================] - 6s 73ms/step - loss: 0.3207 - accuracy: 0.8634 - val_loss: 0.8873 - val_accuracy: 0.7571\n",
            "Epoch 15/50\n",
            "79/79 [==============================] - 6s 72ms/step - loss: 0.2888 - accuracy: 0.8696 - val_loss: 0.8346 - val_accuracy: 0.7607\n",
            "Epoch 16/50\n",
            "79/79 [==============================] - 6s 72ms/step - loss: 0.2982 - accuracy: 0.8829 - val_loss: 0.9851 - val_accuracy: 0.7464\n",
            "Epoch 17/50\n",
            "79/79 [==============================] - 6s 72ms/step - loss: 0.2753 - accuracy: 0.8808 - val_loss: 0.9299 - val_accuracy: 0.7571\n",
            "Epoch 18/50\n",
            "79/79 [==============================] - 6s 72ms/step - loss: 0.2914 - accuracy: 0.8704 - val_loss: 0.9897 - val_accuracy: 0.7500\n",
            "Epoch 19/50\n",
            "79/79 [==============================] - 6s 72ms/step - loss: 0.2812 - accuracy: 0.8779 - val_loss: 0.9807 - val_accuracy: 0.7607\n",
            "Epoch 20/50\n",
            "79/79 [==============================] - 6s 72ms/step - loss: 0.2829 - accuracy: 0.8703 - val_loss: 0.9757 - val_accuracy: 0.7714\n",
            "Epoch 21/50\n",
            "79/79 [==============================] - 6s 72ms/step - loss: 0.2911 - accuracy: 0.8635 - val_loss: 0.9837 - val_accuracy: 0.7714\n",
            "Epoch 22/50\n",
            "79/79 [==============================] - 6s 73ms/step - loss: 0.2875 - accuracy: 0.8641 - val_loss: 1.0111 - val_accuracy: 0.7607\n",
            "Epoch 23/50\n",
            "79/79 [==============================] - 6s 73ms/step - loss: 0.2829 - accuracy: 0.8786 - val_loss: 1.0432 - val_accuracy: 0.7607\n",
            "Epoch 24/50\n",
            "79/79 [==============================] - 6s 73ms/step - loss: 0.2632 - accuracy: 0.8885 - val_loss: 0.9409 - val_accuracy: 0.7643\n",
            "Epoch 25/50\n",
            "79/79 [==============================] - 6s 73ms/step - loss: 0.2559 - accuracy: 0.8881 - val_loss: 1.1995 - val_accuracy: 0.7607\n",
            "Epoch 26/50\n",
            "79/79 [==============================] - 6s 73ms/step - loss: 0.2606 - accuracy: 0.8831 - val_loss: 1.1396 - val_accuracy: 0.7536\n",
            "Epoch 27/50\n",
            "79/79 [==============================] - 6s 73ms/step - loss: 0.2593 - accuracy: 0.8804 - val_loss: 1.2044 - val_accuracy: 0.7607\n",
            "Epoch 28/50\n",
            "79/79 [==============================] - 6s 73ms/step - loss: 0.2481 - accuracy: 0.8852 - val_loss: 1.1751 - val_accuracy: 0.7643\n",
            "Epoch 29/50\n",
            "79/79 [==============================] - 6s 72ms/step - loss: 0.2444 - accuracy: 0.8904 - val_loss: 1.1276 - val_accuracy: 0.7714\n",
            "Epoch 30/50\n",
            "79/79 [==============================] - 6s 72ms/step - loss: 0.2496 - accuracy: 0.8813 - val_loss: 1.3791 - val_accuracy: 0.7607\n",
            "Epoch 31/50\n",
            "79/79 [==============================] - 6s 73ms/step - loss: 0.2332 - accuracy: 0.9007 - val_loss: 1.3431 - val_accuracy: 0.7643\n",
            "Epoch 32/50\n",
            "79/79 [==============================] - 6s 73ms/step - loss: 0.2445 - accuracy: 0.8924 - val_loss: 1.3082 - val_accuracy: 0.7607\n",
            "Epoch 33/50\n",
            "79/79 [==============================] - 6s 73ms/step - loss: 0.2402 - accuracy: 0.8895 - val_loss: 1.3583 - val_accuracy: 0.7607\n",
            "Epoch 34/50\n",
            "79/79 [==============================] - 6s 73ms/step - loss: 0.2479 - accuracy: 0.8837 - val_loss: 1.3175 - val_accuracy: 0.7679\n",
            "Epoch 35/50\n",
            "79/79 [==============================] - 6s 73ms/step - loss: 0.2531 - accuracy: 0.8840 - val_loss: 1.4509 - val_accuracy: 0.7607\n",
            "Epoch 36/50\n",
            "79/79 [==============================] - 6s 73ms/step - loss: 0.2201 - accuracy: 0.9000 - val_loss: 1.2826 - val_accuracy: 0.7714\n",
            "Epoch 37/50\n",
            "79/79 [==============================] - 6s 72ms/step - loss: 0.2457 - accuracy: 0.8950 - val_loss: 1.4548 - val_accuracy: 0.7536\n",
            "Epoch 38/50\n",
            "79/79 [==============================] - 6s 72ms/step - loss: 0.2291 - accuracy: 0.8981 - val_loss: 1.4572 - val_accuracy: 0.7679\n",
            "Epoch 39/50\n",
            "79/79 [==============================] - 6s 72ms/step - loss: 0.2324 - accuracy: 0.8962 - val_loss: 1.4189 - val_accuracy: 0.7643\n",
            "Epoch 40/50\n",
            "79/79 [==============================] - 6s 72ms/step - loss: 0.2220 - accuracy: 0.8939 - val_loss: 1.4437 - val_accuracy: 0.7679\n",
            "Epoch 41/50\n",
            "79/79 [==============================] - 6s 73ms/step - loss: 0.2329 - accuracy: 0.8912 - val_loss: 1.4845 - val_accuracy: 0.7679\n",
            "Epoch 42/50\n",
            "79/79 [==============================] - 6s 73ms/step - loss: 0.2244 - accuracy: 0.8945 - val_loss: 1.5196 - val_accuracy: 0.7571\n",
            "Epoch 43/50\n",
            "79/79 [==============================] - 6s 72ms/step - loss: 0.2466 - accuracy: 0.8955 - val_loss: 1.4368 - val_accuracy: 0.7643\n",
            "Epoch 44/50\n",
            "79/79 [==============================] - 6s 73ms/step - loss: 0.2204 - accuracy: 0.8958 - val_loss: 1.6116 - val_accuracy: 0.7429\n",
            "Epoch 45/50\n",
            "79/79 [==============================] - 6s 73ms/step - loss: 0.2154 - accuracy: 0.8985 - val_loss: 1.5329 - val_accuracy: 0.7571\n",
            "Epoch 46/50\n",
            "79/79 [==============================] - 6s 74ms/step - loss: 0.2398 - accuracy: 0.9007 - val_loss: 1.5815 - val_accuracy: 0.7500\n",
            "Epoch 47/50\n",
            "79/79 [==============================] - 6s 73ms/step - loss: 0.2385 - accuracy: 0.8924 - val_loss: 1.3939 - val_accuracy: 0.7536\n",
            "Epoch 48/50\n",
            "79/79 [==============================] - 6s 73ms/step - loss: 0.2098 - accuracy: 0.9022 - val_loss: 1.5571 - val_accuracy: 0.7571\n",
            "Epoch 49/50\n",
            "79/79 [==============================] - 6s 72ms/step - loss: 0.2346 - accuracy: 0.8925 - val_loss: 1.6051 - val_accuracy: 0.7643\n",
            "Epoch 50/50\n",
            "79/79 [==============================] - 6s 72ms/step - loss: 0.2320 - accuracy: 0.8930 - val_loss: 1.6427 - val_accuracy: 0.7679\n"
          ],
          "name": "stdout"
        }
      ]
    },
    {
      "cell_type": "markdown",
      "metadata": {
        "id": "5Ocxl9KDV5bM"
      },
      "source": [
        "Proses learning model sebanyak 50 iterasi disertai dengan validasi data memakai test_data untuk melihat sejauh mana model bisa memprediksi unseen data."
      ]
    },
    {
      "cell_type": "code",
      "metadata": {
        "id": "UyXHO7xO75A3",
        "colab": {
          "base_uri": "https://localhost:8080/",
          "height": 573
        },
        "outputId": "d020e830-aecd-40c1-8cd6-ad5bcae426cb"
      },
      "source": [
        "import matplotlib.pyplot as plt\n",
        "\n",
        "\n",
        "plt.plot(history.history['accuracy'])\n",
        "plt.plot(history.history['val_accuracy'])\n",
        "\n",
        "plt.title('model accuracy')\n",
        "plt.ylabel('accuracy')\n",
        "plt.xlabel('epoch')\n",
        "plt.legend(['train','test'], loc='upper left')\n",
        "plt.show()\n",
        "\n",
        "plt.plot(history.history['loss'])\n",
        "plt.plot(history.history['val_loss'])\n",
        "\n",
        "plt.title('model loss')\n",
        "plt.ylabel('loss')\n",
        "plt.xlabel('epoch')\n",
        "plt.legend(['train','test'], loc='upper left')\n",
        "plt.show()"
      ],
      "execution_count": 141,
      "outputs": [
        {
          "output_type": "display_data",
          "data": {
            "image/png": "[encoded data removed]",
            "text/plain": [
              "<Figure size 432x288 with 1 Axes>"
            ]
          },
          "metadata": {
            "tags": [],
            "needs_background": "light"
          }
        },
        {
          "output_type": "display_data",
          "data": {
            "image/png": "[encoded data removed]",
            "text/plain": [
              "<Figure size 432x288 with 1 Axes>"
            ]
          },
          "metadata": {
            "tags": [],
            "needs_background": "light"
          }
        }
      ]
    },
    {
      "cell_type": "markdown",
      "metadata": {
        "id": "__PpzOy9WFsL"
      },
      "source": [
        "Terlihat pola fluktuatif pada accuracy dan loss plot. Bisa jadi hal ini terjadi dikarenakan model mencapai local optima yang kemudian melakukan optimasi learning lagi. Pola subset train yang lebih baik (menurun untuk loss dan naik untuk akurasi) daripada subset test menunjukkan model tidak mengalami overfitting."
      ]
    },
    {
      "cell_type": "code",
      "metadata": {
        "colab": {
          "base_uri": "https://localhost:8080/",
          "height": 204
        },
        "id": "5DcTIwUhlz5w",
        "outputId": "b4bafdd0-92b5-4826-e920-0d3d8d46e679"
      },
      "source": [
        "prediction_data.head()"
      ],
      "execution_count": 135,
      "outputs": [
        {
          "output_type": "execute_result",
          "data": {
            "text/html": [
              "<div>\n",
              "<style scoped>\n",
              "    .dataframe tbody tr th:only-of-type {\n",
              "        vertical-align: middle;\n",
              "    }\n",
              "\n",
              "    .dataframe tbody tr th {\n",
              "        vertical-align: top;\n",
              "    }\n",
              "\n",
              "    .dataframe thead th {\n",
              "        text-align: right;\n",
              "    }\n",
              "</style>\n",
              "<table border=\"1\" class=\"dataframe\">\n",
              "  <thead>\n",
              "    <tr style=\"text-align: right;\">\n",
              "      <th></th>\n",
              "      <th>category</th>\n",
              "      <th>line</th>\n",
              "    </tr>\n",
              "  </thead>\n",
              "  <tbody>\n",
              "    <tr>\n",
              "      <th>2803</th>\n",
              "      <td>MISC</td>\n",
              "      <td>This paved the way for the development of pred...</td>\n",
              "    </tr>\n",
              "    <tr>\n",
              "      <th>2804</th>\n",
              "      <td>MISC</td>\n",
              "      <td>To our knowledge, the first of these methods h...</td>\n",
              "    </tr>\n",
              "    <tr>\n",
              "      <th>2805</th>\n",
              "      <td>BASE</td>\n",
              "      <td>Although our method, detailed in the following...</td>\n",
              "    </tr>\n",
              "    <tr>\n",
              "      <th>2806</th>\n",
              "      <td>OWNX</td>\n",
              "      <td>By the latter we consider a seemingly trivial ...</td>\n",
              "    </tr>\n",
              "    <tr>\n",
              "      <th>2807</th>\n",
              "      <td>OWNX</td>\n",
              "      <td>The accuracy of the method makes it attractive...</td>\n",
              "    </tr>\n",
              "  </tbody>\n",
              "</table>\n",
              "</div>"
            ],
            "text/plain": [
              "     category                                               line\n",
              "2803     MISC  This paved the way for the development of pred...\n",
              "2804     MISC  To our knowledge, the first of these methods h...\n",
              "2805     BASE  Although our method, detailed in the following...\n",
              "2806     OWNX  By the latter we consider a seemingly trivial ...\n",
              "2807     OWNX  The accuracy of the method makes it attractive..."
            ]
          },
          "metadata": {
            "tags": []
          },
          "execution_count": 135
        }
      ]
    },
    {
      "cell_type": "markdown",
      "metadata": {
        "id": "-PYsPt8DW1ql"
      },
      "source": [
        ""
      ]
    },
    {
      "cell_type": "markdown",
      "metadata": {
        "id": "0L3nh0pzW1tF"
      },
      "source": [
        "Melakukan prediksi dengan brand-new data (prediction subset) untuk mengetahui sejauh mana tingkat akurasi model."
      ]
    },
    {
      "cell_type": "code",
      "metadata": {
        "colab": {
          "base_uri": "https://localhost:8080/"
        },
        "id": "8oXZhk8c-NZk",
        "outputId": "ccbbd66c-0331-42af-a7c5-8008851bf28f"
      },
      "source": [
        "prediction_sentences = prediction_data['line'].values\n",
        "prediction_sequences = tokenizer.texts_to_sequences(prediction_sentences)\n",
        "prediction_padded    = pad_sequences(prediction_sequences,maxlen=max_length, padding=padding_type, truncating=trunc_type)\n",
        "len(prediction_sequences),len(prediction_padded)"
      ],
      "execution_count": 136,
      "outputs": [
        {
          "output_type": "execute_result",
          "data": {
            "text/plain": [
              "(311, 311)"
            ]
          },
          "metadata": {
            "tags": []
          },
          "execution_count": 136
        }
      ]
    },
    {
      "cell_type": "markdown",
      "metadata": {
        "id": "5KFLZAFFW_0w"
      },
      "source": [
        "Konversi (tokenisasi) subset prediction dilakukan karena input data saat learning merupakan hasil tokenisasi (ditambah padding). Proses tokenisasi menggunakan tokenizer saat model lerning untuk mengurangi potensi data-leakage dari subset prediction (jika menggunakan tokenizer baru yang telah di-fitting dengan prediction, maka bisa jadi ada kemungkinan leakage atau error pada model dikarenakan representasi atau dimensional mapping yang berbeda)"
      ]
    },
    {
      "cell_type": "code",
      "metadata": {
        "colab": {
          "base_uri": "https://localhost:8080/"
        },
        "id": "tYvsuTT--wIX",
        "outputId": "36fc524b-caa0-4d45-f6cc-e464551b697f"
      },
      "source": [
        "prediction_result = model.predict(prediction_padded)"
      ],
      "execution_count": 139,
      "outputs": [
        {
          "output_type": "execute_result",
          "data": {
            "text/plain": [
              "array([[1.5405543e-11, 9.9853599e-01, 1.1278840e-03, 9.9311102e-09,\n",
              "        3.3605687e-04, 8.0477413e-08],\n",
              "       [4.0123697e-15, 9.9990141e-01, 7.9168130e-05, 1.4607151e-11,\n",
              "        1.9376521e-05, 2.1231208e-10],\n",
              "       [2.1598472e-18, 9.9999666e-01, 6.1547570e-07, 1.1559266e-14,\n",
              "        2.7306373e-06, 8.3128079e-13],\n",
              "       ...,\n",
              "       [9.5662145e-08, 4.4638398e-01, 5.5174708e-01, 5.2025269e-05,\n",
              "        1.7831109e-03, 3.3664022e-05],\n",
              "       [6.2203270e-10, 4.1212221e-03, 9.9572730e-01, 1.2741423e-04,\n",
              "        2.1076195e-05, 3.0417684e-06],\n",
              "       [7.0086145e-11, 6.4866379e-02, 9.3511736e-01, 3.2645148e-06,\n",
              "        1.2934108e-05, 1.6414785e-07]], dtype=float32)"
            ]
          },
          "metadata": {
            "tags": []
          },
          "execution_count": 139
        }
      ]
    },
    {
      "cell_type": "markdown",
      "metadata": {
        "id": "qo0dFarlX0KG"
      },
      "source": [
        "Hasil prediksi berupa sparse vector (List) yang menunjukkan tingkat probabilitas kategori (index mana yang tertinggi nilainya) untuk setiap data prediction. "
      ]
    },
    {
      "cell_type": "code",
      "metadata": {
        "id": "mC7FqK4QAOWV"
      },
      "source": [
        "inverse = {code:name for name,code in label_tokenizer.word_index.items()}\n",
        "prediction_cat = [inverse[elem.argmax()].upper() for elem in prediction_result]"
      ],
      "execution_count": 161,
      "outputs": []
    },
    {
      "cell_type": "markdown",
      "metadata": {
        "id": "E7LyV4Q4YNKn"
      },
      "source": [
        "Konversi dari sparse vector ke dalam kategori dengan inversi tokenizer."
      ]
    },
    {
      "cell_type": "code",
      "metadata": {
        "colab": {
          "base_uri": "https://localhost:8080/"
        },
        "id": "H870jSxuBAtf",
        "outputId": "127dce88-719e-4294-e280-32bab78e0285"
      },
      "source": [
        "false_pred = 0\n",
        "true_pred = 0\n",
        "prediction_labels = prediction_data['category'].values\n",
        "for i in range(len(prediction_cat)):\n",
        "    if prediction_cat[i] == prediction_labels[i]:\n",
        "        true_pred += 1\n",
        "    else:\n",
        "        false_pred += 1\n",
        "print(f\"True Prediction     : {true_pred}\")\n",
        "print(f\"False Prediction    : {false_pred}\")\n",
        "print(f\"Accuracy            : {true_pred/len(prediction_labels):.4f}\") "
      ],
      "execution_count": 176,
      "outputs": [
        {
          "output_type": "stream",
          "text": [
            "True Prediction     : 143\n",
            "False Prediction    : 168\n",
            "Accuracy            : 0.4598\n"
          ],
          "name": "stdout"
        }
      ]
    },
    {
      "cell_type": "code",
      "metadata": {
        "colab": {
          "base_uri": "https://localhost:8080/"
        },
        "id": "7JZStzsuKCPc",
        "outputId": "5dad1595-c722-4832-d683-ace9b3040f3f"
      },
      "source": [
        "prediction_label_seq = np.asarray(label_tokenizer.texts_to_sequences(prediction_labels))\n",
        "model.evaluate(prediction_padded,prediction_label_seq)"
      ],
      "execution_count": 177,
      "outputs": [
        {
          "output_type": "stream",
          "text": [
            "10/10 [==============================] - 0s 27ms/step - loss: 3.2376 - accuracy: 0.4598\n"
          ],
          "name": "stdout"
        },
        {
          "output_type": "execute_result",
          "data": {
            "text/plain": [
              "[3.2375688552856445, 0.45980706810951233]"
            ]
          },
          "metadata": {
            "tags": []
          },
          "execution_count": 177
        }
      ]
    },
    {
      "cell_type": "markdown",
      "metadata": {
        "id": "EWHoawFVYeIe"
      },
      "source": [
        "Statistik prediksi data prediction oleh model"
      ]
    },
    {
      "cell_type": "code",
      "metadata": {
        "id": "bSisnlV1EBed"
      },
      "source": [
        "model.save('my_model.h5')"
      ],
      "execution_count": 168,
      "outputs": []
    },
    {
      "cell_type": "markdown",
      "metadata": {
        "id": "odqoMvZQYiSi"
      },
      "source": [
        "Menyimpan model untuk kebutuhan mendatang sehingga tidak perlu melakukan fitting model lagi atau untuk pembanding."
      ]
    },
    {
      "cell_type": "markdown",
      "metadata": {
        "id": "ZHssdqZNYvRh"
      },
      "source": [
        "# ALTERNATIF KEDEPAN\n",
        "\n",
        "- Melakukan hyperparamter tunning pada sekuensial model dan tokenizer.\n",
        "- Menerapkan stopwords dari word_cortex seperti nltk, gloVe, spaCy, dsb\n",
        "- Menerapkan mekanisme stopping dan graph untuk efisiensi pada proses fitting dan model saving.\n",
        "- Memakai model pre-learning seperti BERT (Transfer Learning).\n",
        "\n"
      ]
    }
  ]
}